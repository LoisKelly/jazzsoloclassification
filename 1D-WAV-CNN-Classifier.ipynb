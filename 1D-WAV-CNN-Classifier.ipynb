{
  "cells": [
    {
      "cell_type": "markdown",
      "metadata": {},
      "source": [
        "# 1D Audio CNN Model\n",
        "\n",
        "This code is adapted from content from my Masters Course at UAL\n",
        "\n",
        "Data set: https://jazzomat.hfm-weimar.de/dbformat/dbcontent.html  \n",
        "\n",
        "This code implements a 1-Dimensional Convoluitonal Neural Network that classifies raw waveforms of people speaking different voice instructions. The CNN model implemented here is based on this paper: https://arxiv.org/pdf/1610.00087.pdf\n",
        "\n",
        "The code in this notebook is heavily modified (for readability and adaptability) from this soruce: https://pytorch.org/tutorials/intermediate/speech_command_classification_with_torchaudio_tutorial.html\n",
        "\n",
        "#### LLM Disclaimer\n",
        "Throughout this notebook and project, code has been adapted from online sorces and LLMs. They have been cited where they were used. \n"
      ]
    },
    {
      "cell_type": "code",
      "execution_count": 4,
      "metadata": {
        "collapsed": false
      },
      "outputs": [],
      "source": [
        "# Imports\n",
        "import torch\n",
        "\n",
        "import torch.nn as nn\n",
        "import torch.optim as optim\n",
        "import torch.nn.functional as F\n",
        "import matplotlib.pyplot as plt\n",
        "import torchaudio.transforms as transforms \n",
        "\n",
        "from tqdm import tqdm #Progress bars during training\n",
        "from torch.utils.data import DataLoader\n",
        "from sklearn.model_selection import train_test_split\n",
        "\n",
        "# Import data util functions from 'src/'\n",
        "from src.audio_folder_dataset import AudioFolder\n",
        "from src.audio_folder_collate_fn import collate_audio_folder_batch"
      ]
    },
    {
      "cell_type": "markdown",
      "metadata": {},
      "source": [
        "### Defining the hyperparameters\n",
        "\n",
        "Here I set the device to 'mps' as I worked from my Macbook with an M3 Pro chip. This did appear to accelerate the learning. \n",
        "\n",
        "I experimented with various new sample rates, epochs, batch sizes etc."
      ]
    },
    {
      "cell_type": "code",
      "execution_count": 5,
      "metadata": {
        "collapsed": false
      },
      "outputs": [],
      "source": [
        "device = 'mps'\n",
        "original_sample_rate = 44100 # Sample rate for the speech commands dataset\n",
        "new_sample_rate = 11025 # Sample rate for the speech commands dataset\n",
        "val_size = 0.3 # Size of train / validation split\n",
        "batch_size = 50 # Batch size for training\n",
        "num_epochs = 100 # Number of epochs for training (this is a large dataset so not many epochs needed)\n",
        "log_interval = 50 # Log process every n interations\n",
        "learning_rate = 0.001 # Learning rate for training\n",
        "weight_decay = 0.0001 # Weight decay for ADAM optimiser"
      ]
    },
    {
      "cell_type": "markdown",
      "metadata": {},
      "source": [
        "### Define data transform\n",
        "\n",
        "This function downsamples the audio waveform from a sample rate of 44100 to 22050, which helps the model train more efficiently.\n"
      ]
    },
    {
      "cell_type": "code",
      "execution_count": 6,
      "metadata": {},
      "outputs": [],
      "source": [
        "transform = transforms.Resample(orig_freq=original_sample_rate, new_freq=new_sample_rate)"
      ]
    },
    {
      "cell_type": "markdown",
      "metadata": {},
      "source": [
        "### Create datasets\n",
        "\n",
        "Here the wav files are loaded in and split into test and training batches.  "
      ]
    },
    {
      "cell_type": "code",
      "execution_count": 7,
      "metadata": {},
      "outputs": [
        {
          "name": "stdout",
          "output_type": "stream",
          "text": [
            "['ArtPepper', 'BenWebster', 'BennyCarter', 'BennyGoodman', 'BixBeiderbecke', 'BobBerg', 'BranfordMarsalis', 'BuckClayton', 'CannonballAdderley', 'CharlieParker', 'CharlieShavers', 'ChetBaker', 'ChrisPotter', 'ChuBerry', 'CliffordBrown', 'ColemanHawkins', 'CurtisFuller', 'DavidLiebman', 'DavidMurray', 'DexterGordon', 'DickieWells', 'DizzyGillespie', 'DonByas', 'DonEllis', 'EricDolphy', 'FatsNavarro', 'FreddieHubbard', 'GeorgeColeman', 'GerryMulligan', 'HankMobley', 'HarryEdison', 'HenryAllen', 'HerbieHancock', 'JCHigginbotham', 'JJJohnson', 'JoeHenderson', 'JoeLovano', 'JohnAbercrombie', 'JohnColtrane', 'JohnnyDodds', 'JohnnyHodges', 'JoshuaRedman', 'KaiWinding', 'KennyDorham', 'KennyGarrett', 'KennyWheeler', 'KidOry', 'LeeKonitz', 'LeeMorgan', 'LesterYoung', 'LionelHampton', 'LouisArmstrong', 'MichaelBrecker', 'MilesDavis', 'MiltJackson', 'NatAdderley', 'OrnetteColeman', 'PatMartino', 'PatMetheny', 'PaulDesmond', 'PepperAdams', 'PhilWoods', 'RedGarland', 'RexStewart', 'RoyEldridge', 'SidneyBechet', 'SonnyRollins', 'SonnyStitt', 'StanGetz', 'SteveColeman', 'SteveLacy', 'SteveTurre', 'VonFreeman', 'WarneMarsh', 'WayneShorter', 'WoodyShaw', 'WyntonMarsalis', 'ZootSims']\n"
          ]
        }
      ],
      "source": [
        "train_path = '/Users/loiskelly/Documents/GitHub/ai4mediaproject/data/wav_folders_split'\n",
        "dataset = AudioFolder(train_path, transform=transform)\n",
        "num_classes = len(dataset.classes)\n",
        "print(dataset.classes)\n",
        "\n",
        "# Get length of dataset and indicies\n",
        "num_train = len(dataset)\n",
        "indices = list(range(num_train))\n",
        "\n",
        "# Get train / val split for data points\n",
        "train_indices, val_indices = train_test_split(indices, test_size=val_size, random_state=42)\n",
        "\n",
        "# Override dataset classes to only be samples for each split\n",
        "train_subset = torch.utils.data.Subset(dataset, train_indices)\n",
        "val_subset = torch.utils.data.Subset(dataset, val_indices)\n",
        "\n",
        "# Create data loaders - these feed baches of data during training. \n",
        "train_loader = DataLoader(train_subset, batch_size=batch_size, collate_fn=collate_audio_folder_batch, shuffle=True)\n",
        "val_loader = DataLoader(val_subset, batch_size=batch_size, collate_fn=collate_audio_folder_batch,  shuffle=False)\n"
      ]
    },
    {
      "cell_type": "markdown",
      "metadata": {},
      "source": [
        "### Plot a sample of the data"
      ]
    },
    {
      "cell_type": "code",
      "execution_count": null,
      "metadata": {},
      "outputs": [],
      "source": [
        "data_batch, label_batch = next(iter(train_loader))\n",
        "sample_waveform = data_batch[0].squeeze()\n",
        "print(f'Data batch shape: {data_batch.shape}')\n",
        "print(f\"Shape of waveform: {sample_waveform.size()}\")\n",
        "sample_class = int(label_batch[0].item())\n",
        "print(f'Class of waveform: \\'{dataset.idx_to_class[sample_class]}\\'')\n",
        "plt.plot(sample_waveform.t().numpy())"
      ]
    },
    {
      "cell_type": "markdown",
      "metadata": {},
      "source": [
        "### Define the Network\n",
        "\n",
        "Here we define a 1-Dimensional convolutional neural network to process raw audio data. The specific architecture is modeled after the M5 network architecture described in [this paper](https://arxiv.org/pdf/1610.00087.pdf). \n",
        "\n"
      ]
    },
    {
      "cell_type": "code",
      "execution_count": 9,
      "metadata": {
        "collapsed": false
      },
      "outputs": [],
      "source": [
        "class M5(nn.Module):\n",
        "    def __init__(self, n_input=50, n_output=35, stride=16, n_channel=32):\n",
        "        super().__init__()\n",
        "        self.conv1 = nn.Conv1d(n_input, n_channel, kernel_size=80, stride=stride)\n",
        "        self.bn1 = nn.BatchNorm1d(n_channel)\n",
        "        self.pool1 = nn.MaxPool1d(4)\n",
        "        self.conv2 = nn.Conv1d(n_channel, n_channel, kernel_size=3)\n",
        "        self.bn2 = nn.BatchNorm1d(n_channel)\n",
        "        self.pool2 = nn.MaxPool1d(4)\n",
        "        self.conv3 = nn.Conv1d(n_channel, 2 * n_channel, kernel_size=3)\n",
        "        self.bn3 = nn.BatchNorm1d(2 * n_channel)\n",
        "        self.pool3 = nn.MaxPool1d(4)\n",
        "        self.conv4 = nn.Conv1d(2 * n_channel, 2 * n_channel, kernel_size=3)\n",
        "        self.bn4 = nn.BatchNorm1d(2 * n_channel)\n",
        "        self.pool4 = nn.MaxPool1d(4)\n",
        "        self.fc1 = nn.Linear(2 * n_channel, n_output)\n",
        "\n",
        "    def forward(self, x):\n",
        "        x = self.conv1(x)\n",
        "        x = F.relu(self.bn1(x))\n",
        "        x = self.pool1(x)\n",
        "        x = self.conv2(x)\n",
        "        x = F.relu(self.bn2(x))\n",
        "        x = self.pool2(x)\n",
        "        x = self.conv3(x)\n",
        "        x = F.relu(self.bn3(x))\n",
        "        x = self.pool3(x)\n",
        "        x = self.conv4(x)\n",
        "        x = F.relu(self.bn4(x))\n",
        "        x = self.pool4(x)\n",
        "        x = F.avg_pool1d(x, x.shape[-1])\n",
        "        x = x.permute(0, 2, 1)\n",
        "        x = self.fc1(x)\n",
        "        return x"
      ]
    },
    {
      "cell_type": "markdown",
      "metadata": {},
      "source": [
        "### Setup core objects\n",
        "\n",
        "Here we setup our core objects, the model, the loss function (criterion) and the optimiser."
      ]
    },
    {
      "cell_type": "code",
      "execution_count": 10,
      "metadata": {},
      "outputs": [
        {
          "name": "stdout",
          "output_type": "stream",
          "text": [
            "M5(\n",
            "  (conv1): Conv1d(1, 32, kernel_size=(80,), stride=(16,))\n",
            "  (bn1): BatchNorm1d(32, eps=1e-05, momentum=0.1, affine=True, track_running_stats=True)\n",
            "  (pool1): MaxPool1d(kernel_size=4, stride=4, padding=0, dilation=1, ceil_mode=False)\n",
            "  (conv2): Conv1d(32, 32, kernel_size=(3,), stride=(1,))\n",
            "  (bn2): BatchNorm1d(32, eps=1e-05, momentum=0.1, affine=True, track_running_stats=True)\n",
            "  (pool2): MaxPool1d(kernel_size=4, stride=4, padding=0, dilation=1, ceil_mode=False)\n",
            "  (conv3): Conv1d(32, 64, kernel_size=(3,), stride=(1,))\n",
            "  (bn3): BatchNorm1d(64, eps=1e-05, momentum=0.1, affine=True, track_running_stats=True)\n",
            "  (pool3): MaxPool1d(kernel_size=4, stride=4, padding=0, dilation=1, ceil_mode=False)\n",
            "  (conv4): Conv1d(64, 64, kernel_size=(3,), stride=(1,))\n",
            "  (bn4): BatchNorm1d(64, eps=1e-05, momentum=0.1, affine=True, track_running_stats=True)\n",
            "  (pool4): MaxPool1d(kernel_size=4, stride=4, padding=0, dilation=1, ceil_mode=False)\n",
            "  (fc1): Linear(in_features=64, out_features=78, bias=True)\n",
            ")\n",
            "Number of parameters: 29710\n"
          ]
        }
      ],
      "source": [
        "model = M5(n_input=1, n_output=num_classes)\n",
        "model.to(device)\n",
        "print(model)\n",
        "\n",
        "def count_parameters(model):\n",
        "    return sum(p.numel() for p in model.parameters() if p.requires_grad)\n",
        "\n",
        "n = count_parameters(model)\n",
        "print(\"Number of parameters: %s\" % n)\n",
        "\n",
        "optimizer = optim.Adam(model.parameters(), lr=learning_rate, weight_decay=weight_decay)\n",
        "criterion = nn.CrossEntropyLoss()"
      ]
    },
    {
      "cell_type": "markdown",
      "metadata": {},
      "source": [
        "### Evaluation functions\n",
        "\n",
        "These are functions we can use to get the actual prediction from the model in validation to get an overall accuracy score on the validation set:"
      ]
    },
    {
      "cell_type": "code",
      "execution_count": 11,
      "metadata": {},
      "outputs": [],
      "source": [
        "def number_of_correct(pred, target):\n",
        "    # count number of correct predictions\n",
        "    return pred.squeeze().eq(target).sum().item()\n",
        "\n",
        "\n",
        "def get_likely_index(tensor):\n",
        "    # find most likely label index for each element in the batch\n",
        "    return tensor.argmax(dim=-1)"
      ]
    },
    {
      "cell_type": "markdown",
      "metadata": {},
      "source": [
        "### Training loop\n",
        "\n",
        "\n",
        "Here is our training loop for our data. Look at how the training set and validation set are used differently. "
      ]
    },
    {
      "cell_type": "code",
      "execution_count": 12,
      "metadata": {},
      "outputs": [
        {
          "name": "stderr",
          "output_type": "stream",
          "text": [
            "  0%|          | 0/100 [00:00<?, ?it/s]"
          ]
        },
        {
          "name": "stderr",
          "output_type": "stream",
          "text": [
            "  0%|          | 0.01092896174863388/100 [00:03<8:00:22, 288.26s/it] "
          ]
        },
        {
          "name": "stdout",
          "output_type": "stream",
          "text": [
            "Train Epoch: 0 [0/6370 (0%)]\tLoss: 4.398822\n"
          ]
        },
        {
          "name": "stderr",
          "output_type": "stream",
          "text": [
            "  0%|          | 0.2841530054644811/100 [00:11<42:33, 25.61s/it]    "
          ]
        },
        {
          "name": "stdout",
          "output_type": "stream",
          "text": [
            "Train Epoch: 0 [2500/6370 (39%)]\tLoss: 3.905454\n"
          ]
        },
        {
          "name": "stderr",
          "output_type": "stream",
          "text": [
            "  1%|          | 0.5573770491803284/100 [00:18<41:12, 24.87s/it] "
          ]
        },
        {
          "name": "stdout",
          "output_type": "stream",
          "text": [
            "Train Epoch: 0 [5000/6370 (78%)]\tLoss: 3.600441\n"
          ]
        },
        {
          "name": "stderr",
          "output_type": "stream",
          "text": [
            "  1%|          | 1.0054644808743178/100 [00:32<53:47, 32.60s/it]  "
          ]
        },
        {
          "name": "stdout",
          "output_type": "stream",
          "text": [
            "\n",
            "Test Epoch: 0\tAccuracy: 281/2730 (10%)\n",
            "\n",
            "Train Epoch: 1 [0/6370 (0%)]\tLoss: 3.785722\n"
          ]
        },
        {
          "name": "stderr",
          "output_type": "stream",
          "text": [
            "  1%|▏         | 1.284153005464482/100 [00:39<40:35, 24.67s/it] "
          ]
        },
        {
          "name": "stdout",
          "output_type": "stream",
          "text": [
            "Train Epoch: 1 [2500/6370 (39%)]\tLoss: 3.514519\n"
          ]
        },
        {
          "name": "stderr",
          "output_type": "stream",
          "text": [
            "  2%|▏         | 1.5573770491803294/100 [00:46<37:34, 22.90s/it]"
          ]
        },
        {
          "name": "stdout",
          "output_type": "stream",
          "text": [
            "Train Epoch: 1 [5000/6370 (78%)]\tLoss: 3.669513\n"
          ]
        },
        {
          "name": "stderr",
          "output_type": "stream",
          "text": [
            "  2%|▏         | 2.0054644808743185/100 [00:58<44:28, 27.23s/it]"
          ]
        },
        {
          "name": "stdout",
          "output_type": "stream",
          "text": [
            "\n",
            "Test Epoch: 1\tAccuracy: 320/2730 (12%)\n",
            "\n",
            "Train Epoch: 2 [0/6370 (0%)]\tLoss: 3.697466\n"
          ]
        },
        {
          "name": "stderr",
          "output_type": "stream",
          "text": [
            "  2%|▏         | 2.2841530054644714/100 [01:05<38:45, 23.80s/it]"
          ]
        },
        {
          "name": "stdout",
          "output_type": "stream",
          "text": [
            "Train Epoch: 2 [2500/6370 (39%)]\tLoss: 3.398362\n"
          ]
        },
        {
          "name": "stderr",
          "output_type": "stream",
          "text": [
            "  3%|▎         | 2.5573770491803076/100 [01:11<37:05, 22.84s/it]"
          ]
        },
        {
          "name": "stdout",
          "output_type": "stream",
          "text": [
            "Train Epoch: 2 [5000/6370 (78%)]\tLoss: 3.579942\n"
          ]
        },
        {
          "name": "stderr",
          "output_type": "stream",
          "text": [
            "  3%|▎         | 3.005464480874279/100 [01:23<46:12, 28.58s/it] "
          ]
        },
        {
          "name": "stdout",
          "output_type": "stream",
          "text": [
            "\n",
            "Test Epoch: 2\tAccuracy: 348/2730 (13%)\n",
            "\n",
            "Train Epoch: 3 [0/6370 (0%)]\tLoss: 3.570124\n"
          ]
        },
        {
          "name": "stderr",
          "output_type": "stream",
          "text": [
            "  3%|▎         | 3.284153005464432/100 [01:30<40:19, 25.02s/it] "
          ]
        },
        {
          "name": "stdout",
          "output_type": "stream",
          "text": [
            "Train Epoch: 3 [2500/6370 (39%)]\tLoss: 3.397188\n"
          ]
        },
        {
          "name": "stderr",
          "output_type": "stream",
          "text": [
            "  4%|▎         | 3.557377049180268/100 [01:37<37:49, 23.53s/it] "
          ]
        },
        {
          "name": "stdout",
          "output_type": "stream",
          "text": [
            "Train Epoch: 3 [5000/6370 (78%)]\tLoss: 3.347522\n"
          ]
        },
        {
          "name": "stderr",
          "output_type": "stream",
          "text": [
            "  4%|▍         | 4.00546448087424/100 [01:49<42:17, 26.43s/it]  "
          ]
        },
        {
          "name": "stdout",
          "output_type": "stream",
          "text": [
            "\n",
            "Test Epoch: 3\tAccuracy: 392/2730 (14%)\n",
            "\n",
            "Train Epoch: 4 [0/6370 (0%)]\tLoss: 3.276505\n"
          ]
        },
        {
          "name": "stderr",
          "output_type": "stream",
          "text": [
            "  4%|▍         | 4.2841530054644155/100 [01:56<39:54, 25.01s/it]"
          ]
        },
        {
          "name": "stdout",
          "output_type": "stream",
          "text": [
            "Train Epoch: 4 [2500/6370 (39%)]\tLoss: 3.499374\n"
          ]
        },
        {
          "name": "stderr",
          "output_type": "stream",
          "text": [
            "  5%|▍         | 4.557377049180274/100 [02:03<36:47, 23.12s/it] "
          ]
        },
        {
          "name": "stdout",
          "output_type": "stream",
          "text": [
            "Train Epoch: 4 [5000/6370 (78%)]\tLoss: 3.414300\n"
          ]
        },
        {
          "name": "stderr",
          "output_type": "stream",
          "text": [
            "  5%|▌         | 5.005464480874282/100 [02:15<45:39, 28.84s/it] "
          ]
        },
        {
          "name": "stdout",
          "output_type": "stream",
          "text": [
            "\n",
            "Test Epoch: 4\tAccuracy: 454/2730 (17%)\n",
            "\n",
            "Train Epoch: 5 [0/6370 (0%)]\tLoss: 3.187863\n"
          ]
        },
        {
          "name": "stderr",
          "output_type": "stream",
          "text": [
            "  5%|▌         | 5.284153005464457/100 [02:22<38:35, 24.45s/it] "
          ]
        },
        {
          "name": "stdout",
          "output_type": "stream",
          "text": [
            "Train Epoch: 5 [2500/6370 (39%)]\tLoss: 3.502586\n"
          ]
        },
        {
          "name": "stderr",
          "output_type": "stream",
          "text": [
            "  6%|▌         | 5.557377049180316/100 [02:28<37:58, 24.13s/it] "
          ]
        },
        {
          "name": "stdout",
          "output_type": "stream",
          "text": [
            "Train Epoch: 5 [5000/6370 (78%)]\tLoss: 3.064291\n"
          ]
        },
        {
          "name": "stderr",
          "output_type": "stream",
          "text": [
            "  6%|▌         | 6.005464480874323/100 [02:40<43:11, 27.58s/it] "
          ]
        },
        {
          "name": "stdout",
          "output_type": "stream",
          "text": [
            "\n",
            "Test Epoch: 5\tAccuracy: 477/2730 (17%)\n",
            "\n",
            "Train Epoch: 6 [0/6370 (0%)]\tLoss: 3.242995\n"
          ]
        },
        {
          "name": "stderr",
          "output_type": "stream",
          "text": [
            "  6%|▋         | 6.284153005464499/100 [02:48<39:47, 25.48s/it] "
          ]
        },
        {
          "name": "stdout",
          "output_type": "stream",
          "text": [
            "Train Epoch: 6 [2500/6370 (39%)]\tLoss: 3.289782\n"
          ]
        },
        {
          "name": "stderr",
          "output_type": "stream",
          "text": [
            "  7%|▋         | 6.557377049180357/100 [02:54<39:42, 25.50s/it] "
          ]
        },
        {
          "name": "stdout",
          "output_type": "stream",
          "text": [
            "Train Epoch: 6 [5000/6370 (78%)]\tLoss: 3.285527\n"
          ]
        },
        {
          "name": "stderr",
          "output_type": "stream",
          "text": [
            "  7%|▋         | 7.005464480874365/100 [03:06<43:02, 27.77s/it] "
          ]
        },
        {
          "name": "stdout",
          "output_type": "stream",
          "text": [
            "\n",
            "Test Epoch: 6\tAccuracy: 466/2730 (17%)\n",
            "\n",
            "Train Epoch: 7 [0/6370 (0%)]\tLoss: 2.761456\n"
          ]
        },
        {
          "name": "stderr",
          "output_type": "stream",
          "text": [
            "  7%|▋         | 7.284153005464541/100 [03:13<37:36, 24.34s/it] "
          ]
        },
        {
          "name": "stdout",
          "output_type": "stream",
          "text": [
            "Train Epoch: 7 [2500/6370 (39%)]\tLoss: 3.056248\n"
          ]
        },
        {
          "name": "stderr",
          "output_type": "stream",
          "text": [
            "  8%|▊         | 7.557377049180399/100 [03:20<40:55, 26.56s/it] "
          ]
        },
        {
          "name": "stdout",
          "output_type": "stream",
          "text": [
            "Train Epoch: 7 [5000/6370 (78%)]\tLoss: 2.910558\n"
          ]
        },
        {
          "name": "stderr",
          "output_type": "stream",
          "text": [
            "  8%|▊         | 8.005464480874405/100 [03:32<42:49, 27.93s/it] "
          ]
        },
        {
          "name": "stdout",
          "output_type": "stream",
          "text": [
            "\n",
            "Test Epoch: 7\tAccuracy: 513/2730 (19%)\n",
            "\n",
            "Train Epoch: 8 [0/6370 (0%)]\tLoss: 2.902064\n"
          ]
        },
        {
          "name": "stderr",
          "output_type": "stream",
          "text": [
            "  8%|▊         | 8.284153005464535/100 [03:39<39:00, 25.52s/it]"
          ]
        },
        {
          "name": "stdout",
          "output_type": "stream",
          "text": [
            "Train Epoch: 8 [2500/6370 (39%)]\tLoss: 3.051206\n"
          ]
        },
        {
          "name": "stderr",
          "output_type": "stream",
          "text": [
            "  9%|▊         | 8.55737704918035/100 [03:46<35:33, 23.33s/it] "
          ]
        },
        {
          "name": "stdout",
          "output_type": "stream",
          "text": [
            "Train Epoch: 8 [5000/6370 (78%)]\tLoss: 3.058123\n"
          ]
        },
        {
          "name": "stderr",
          "output_type": "stream",
          "text": [
            "  9%|▉         | 9.005464480874284/100 [03:57<42:26, 27.98s/it]"
          ]
        },
        {
          "name": "stdout",
          "output_type": "stream",
          "text": [
            "\n",
            "Test Epoch: 8\tAccuracy: 520/2730 (19%)\n",
            "\n",
            "Train Epoch: 9 [0/6370 (0%)]\tLoss: 2.791898\n"
          ]
        },
        {
          "name": "stderr",
          "output_type": "stream",
          "text": [
            "  9%|▉         | 9.284153005464415/100 [04:05<37:25, 24.76s/it]"
          ]
        },
        {
          "name": "stdout",
          "output_type": "stream",
          "text": [
            "Train Epoch: 9 [2500/6370 (39%)]\tLoss: 2.859232\n"
          ]
        },
        {
          "name": "stderr",
          "output_type": "stream",
          "text": [
            " 10%|▉         | 9.557377049180229/100 [04:11<35:55, 23.84s/it]"
          ]
        },
        {
          "name": "stdout",
          "output_type": "stream",
          "text": [
            "Train Epoch: 9 [5000/6370 (78%)]\tLoss: 3.147194\n"
          ]
        },
        {
          "name": "stderr",
          "output_type": "stream",
          "text": [
            " 10%|█         | 10.005464480874164/100 [04:23<40:45, 27.18s/it]"
          ]
        },
        {
          "name": "stdout",
          "output_type": "stream",
          "text": [
            "\n",
            "Test Epoch: 9\tAccuracy: 515/2730 (19%)\n",
            "\n",
            "Train Epoch: 10 [0/6370 (0%)]\tLoss: 3.299390\n"
          ]
        },
        {
          "name": "stderr",
          "output_type": "stream",
          "text": [
            " 10%|█         | 10.284153005464294/100 [04:30<37:00, 24.75s/it]"
          ]
        },
        {
          "name": "stdout",
          "output_type": "stream",
          "text": [
            "Train Epoch: 10 [2500/6370 (39%)]\tLoss: 2.844541\n"
          ]
        },
        {
          "name": "stderr",
          "output_type": "stream",
          "text": [
            " 11%|█         | 10.557377049180108/100 [04:37<36:09, 24.26s/it]"
          ]
        },
        {
          "name": "stdout",
          "output_type": "stream",
          "text": [
            "Train Epoch: 10 [5000/6370 (78%)]\tLoss: 3.350578\n"
          ]
        },
        {
          "name": "stderr",
          "output_type": "stream",
          "text": [
            " 11%|█         | 11.005464480874043/100 [04:49<41:41, 28.10s/it]  "
          ]
        },
        {
          "name": "stdout",
          "output_type": "stream",
          "text": [
            "\n",
            "Test Epoch: 10\tAccuracy: 596/2730 (22%)\n",
            "\n",
            "Train Epoch: 11 [0/6370 (0%)]\tLoss: 2.735675\n"
          ]
        },
        {
          "name": "stderr",
          "output_type": "stream",
          "text": [
            " 11%|█▏        | 11.284153005464173/100 [04:57<38:29, 26.03s/it]"
          ]
        },
        {
          "name": "stdout",
          "output_type": "stream",
          "text": [
            "Train Epoch: 11 [2500/6370 (39%)]\tLoss: 2.623210\n"
          ]
        },
        {
          "name": "stderr",
          "output_type": "stream",
          "text": [
            " 12%|█▏        | 11.557377049179987/100 [05:04<40:13, 27.29s/it]"
          ]
        },
        {
          "name": "stdout",
          "output_type": "stream",
          "text": [
            "Train Epoch: 11 [5000/6370 (78%)]\tLoss: 2.992217\n"
          ]
        },
        {
          "name": "stderr",
          "output_type": "stream",
          "text": [
            " 12%|█▏        | 12.005464480873922/100 [05:17<43:50, 29.90s/it]"
          ]
        },
        {
          "name": "stdout",
          "output_type": "stream",
          "text": [
            "\n",
            "Test Epoch: 11\tAccuracy: 586/2730 (21%)\n",
            "\n",
            "Train Epoch: 12 [0/6370 (0%)]\tLoss: 2.652614\n"
          ]
        },
        {
          "name": "stderr",
          "output_type": "stream",
          "text": [
            " 12%|█▏        | 12.284153005464052/100 [05:26<38:43, 26.49s/it]"
          ]
        },
        {
          "name": "stdout",
          "output_type": "stream",
          "text": [
            "Train Epoch: 12 [2500/6370 (39%)]\tLoss: 2.763459\n"
          ]
        },
        {
          "name": "stderr",
          "output_type": "stream",
          "text": [
            " 13%|█▎        | 12.557377049179866/100 [05:32<35:24, 24.29s/it]"
          ]
        },
        {
          "name": "stdout",
          "output_type": "stream",
          "text": [
            "Train Epoch: 12 [5000/6370 (78%)]\tLoss: 3.326647\n"
          ]
        },
        {
          "name": "stderr",
          "output_type": "stream",
          "text": [
            " 13%|█▎        | 13.005464480873801/100 [05:45<40:20, 27.82s/it]  "
          ]
        },
        {
          "name": "stdout",
          "output_type": "stream",
          "text": [
            "\n",
            "Test Epoch: 12\tAccuracy: 566/2730 (21%)\n",
            "\n",
            "Train Epoch: 13 [0/6370 (0%)]\tLoss: 2.708642\n"
          ]
        },
        {
          "name": "stderr",
          "output_type": "stream",
          "text": [
            " 13%|█▎        | 13.284153005463931/100 [05:52<35:46, 24.75s/it]"
          ]
        },
        {
          "name": "stdout",
          "output_type": "stream",
          "text": [
            "Train Epoch: 13 [2500/6370 (39%)]\tLoss: 2.921403\n"
          ]
        },
        {
          "name": "stderr",
          "output_type": "stream",
          "text": [
            " 14%|█▎        | 13.557377049179745/100 [05:58<33:34, 23.31s/it]"
          ]
        },
        {
          "name": "stdout",
          "output_type": "stream",
          "text": [
            "Train Epoch: 13 [5000/6370 (78%)]\tLoss: 2.490507\n"
          ]
        },
        {
          "name": "stderr",
          "output_type": "stream",
          "text": [
            " 14%|█▍        | 14.00546448087368/100 [06:12<45:07, 31.49s/it] "
          ]
        },
        {
          "name": "stdout",
          "output_type": "stream",
          "text": [
            "\n",
            "Test Epoch: 13\tAccuracy: 591/2730 (22%)\n",
            "\n",
            "Train Epoch: 14 [0/6370 (0%)]\tLoss: 2.930469\n"
          ]
        },
        {
          "name": "stderr",
          "output_type": "stream",
          "text": [
            " 14%|█▍        | 14.28415300546381/100 [06:20<39:38, 27.75s/it] "
          ]
        },
        {
          "name": "stdout",
          "output_type": "stream",
          "text": [
            "Train Epoch: 14 [2500/6370 (39%)]\tLoss: 2.472202\n"
          ]
        },
        {
          "name": "stderr",
          "output_type": "stream",
          "text": [
            " 15%|█▍        | 14.557377049179625/100 [06:27<37:50, 26.57s/it]"
          ]
        },
        {
          "name": "stdout",
          "output_type": "stream",
          "text": [
            "Train Epoch: 14 [5000/6370 (78%)]\tLoss: 3.039501\n"
          ]
        },
        {
          "name": "stderr",
          "output_type": "stream",
          "text": [
            " 15%|█▌        | 15.00546448087356/100 [06:40<41:50, 29.54s/it] "
          ]
        },
        {
          "name": "stdout",
          "output_type": "stream",
          "text": [
            "\n",
            "Test Epoch: 14\tAccuracy: 607/2730 (22%)\n",
            "\n",
            "Train Epoch: 15 [0/6370 (0%)]\tLoss: 2.757421\n"
          ]
        },
        {
          "name": "stderr",
          "output_type": "stream",
          "text": [
            " 15%|█▌        | 15.28415300546369/100 [06:48<39:02, 27.65s/it] "
          ]
        },
        {
          "name": "stdout",
          "output_type": "stream",
          "text": [
            "Train Epoch: 15 [2500/6370 (39%)]\tLoss: 2.865156\n"
          ]
        },
        {
          "name": "stderr",
          "output_type": "stream",
          "text": [
            " 16%|█▌        | 15.557377049179504/100 [06:55<35:46, 25.42s/it]"
          ]
        },
        {
          "name": "stdout",
          "output_type": "stream",
          "text": [
            "Train Epoch: 15 [5000/6370 (78%)]\tLoss: 2.645489\n"
          ]
        },
        {
          "name": "stderr",
          "output_type": "stream",
          "text": [
            " 16%|█▌        | 16.00546448087344/100 [07:08<39:04, 27.91s/it] "
          ]
        },
        {
          "name": "stdout",
          "output_type": "stream",
          "text": [
            "\n",
            "Test Epoch: 15\tAccuracy: 650/2730 (24%)\n",
            "\n",
            "Train Epoch: 16 [0/6370 (0%)]\tLoss: 2.735356\n"
          ]
        },
        {
          "name": "stderr",
          "output_type": "stream",
          "text": [
            " 16%|█▋        | 16.28415300546357/100 [07:16<33:35, 24.07s/it] "
          ]
        },
        {
          "name": "stdout",
          "output_type": "stream",
          "text": [
            "Train Epoch: 16 [2500/6370 (39%)]\tLoss: 2.671156\n"
          ]
        },
        {
          "name": "stderr",
          "output_type": "stream",
          "text": [
            " 17%|█▋        | 16.557377049179383/100 [07:23<34:07, 24.54s/it]"
          ]
        },
        {
          "name": "stdout",
          "output_type": "stream",
          "text": [
            "Train Epoch: 16 [5000/6370 (78%)]\tLoss: 3.021234\n"
          ]
        },
        {
          "name": "stderr",
          "output_type": "stream",
          "text": [
            " 17%|█▋        | 17.005464480873318/100 [07:36<42:19, 30.60s/it]"
          ]
        },
        {
          "name": "stdout",
          "output_type": "stream",
          "text": [
            "\n",
            "Test Epoch: 16\tAccuracy: 643/2730 (24%)\n",
            "\n",
            "Train Epoch: 17 [0/6370 (0%)]\tLoss: 2.654824\n"
          ]
        },
        {
          "name": "stderr",
          "output_type": "stream",
          "text": [
            " 17%|█▋        | 17.28415300546345/100 [07:44<37:33, 27.25s/it] "
          ]
        },
        {
          "name": "stdout",
          "output_type": "stream",
          "text": [
            "Train Epoch: 17 [2500/6370 (39%)]\tLoss: 2.536810\n"
          ]
        },
        {
          "name": "stderr",
          "output_type": "stream",
          "text": [
            " 18%|█▊        | 17.557377049179262/100 [07:51<37:11, 27.07s/it]"
          ]
        },
        {
          "name": "stdout",
          "output_type": "stream",
          "text": [
            "Train Epoch: 17 [5000/6370 (78%)]\tLoss: 2.405851\n"
          ]
        },
        {
          "name": "stderr",
          "output_type": "stream",
          "text": [
            " 18%|█▊        | 18.005464480873197/100 [08:04<39:49, 29.14s/it]"
          ]
        },
        {
          "name": "stdout",
          "output_type": "stream",
          "text": [
            "\n",
            "Test Epoch: 17\tAccuracy: 584/2730 (21%)\n",
            "\n",
            "Train Epoch: 18 [0/6370 (0%)]\tLoss: 2.810755\n"
          ]
        },
        {
          "name": "stderr",
          "output_type": "stream",
          "text": [
            " 18%|█▊        | 18.284153005463327/100 [08:12<38:21, 28.17s/it]"
          ]
        },
        {
          "name": "stdout",
          "output_type": "stream",
          "text": [
            "Train Epoch: 18 [2500/6370 (39%)]\tLoss: 2.602799\n"
          ]
        },
        {
          "name": "stderr",
          "output_type": "stream",
          "text": [
            " 19%|█▊        | 18.55737704917914/100 [08:20<34:20, 25.30s/it] "
          ]
        },
        {
          "name": "stdout",
          "output_type": "stream",
          "text": [
            "Train Epoch: 18 [5000/6370 (78%)]\tLoss: 2.915648\n"
          ]
        },
        {
          "name": "stderr",
          "output_type": "stream",
          "text": [
            " 19%|█▉        | 19.005464480873076/100 [08:33<45:09, 33.45s/it]"
          ]
        },
        {
          "name": "stdout",
          "output_type": "stream",
          "text": [
            "\n",
            "Test Epoch: 18\tAccuracy: 668/2730 (24%)\n",
            "\n",
            "Train Epoch: 19 [0/6370 (0%)]\tLoss: 2.476382\n"
          ]
        },
        {
          "name": "stderr",
          "output_type": "stream",
          "text": [
            " 19%|█▉        | 19.284153005463207/100 [08:41<39:29, 29.36s/it]"
          ]
        },
        {
          "name": "stdout",
          "output_type": "stream",
          "text": [
            "Train Epoch: 19 [2500/6370 (39%)]\tLoss: 2.701483\n"
          ]
        },
        {
          "name": "stderr",
          "output_type": "stream",
          "text": [
            " 20%|█▉        | 19.55737704917902/100 [08:48<36:41, 27.37s/it] "
          ]
        },
        {
          "name": "stdout",
          "output_type": "stream",
          "text": [
            "Train Epoch: 19 [5000/6370 (78%)]\tLoss: 2.240740\n"
          ]
        },
        {
          "name": "stderr",
          "output_type": "stream",
          "text": [
            " 20%|█▉        | 19.99999999999864/100 [09:02<41:10, 30.88s/it] "
          ]
        },
        {
          "name": "stdout",
          "output_type": "stream",
          "text": [
            "\n",
            "Test Epoch: 19\tAccuracy: 661/2730 (24%)\n",
            "\n"
          ]
        },
        {
          "name": "stderr",
          "output_type": "stream",
          "text": [
            " 20%|██        | 20.010928961747272/100 [09:02<44:23, 33.30s/it]"
          ]
        },
        {
          "name": "stdout",
          "output_type": "stream",
          "text": [
            "Train Epoch: 20 [0/6370 (0%)]\tLoss: 2.422799\n"
          ]
        },
        {
          "name": "stderr",
          "output_type": "stream",
          "text": [
            " 20%|██        | 20.284153005463086/100 [09:10<38:24, 28.91s/it]"
          ]
        },
        {
          "name": "stdout",
          "output_type": "stream",
          "text": [
            "Train Epoch: 20 [2500/6370 (39%)]\tLoss: 2.589799\n"
          ]
        },
        {
          "name": "stderr",
          "output_type": "stream",
          "text": [
            " 21%|██        | 20.5573770491789/100 [09:18<35:30, 26.82s/it]  "
          ]
        },
        {
          "name": "stdout",
          "output_type": "stream",
          "text": [
            "Train Epoch: 20 [5000/6370 (78%)]\tLoss: 2.475866\n"
          ]
        },
        {
          "name": "stderr",
          "output_type": "stream",
          "text": [
            " 21%|██        | 21.005464480872835/100 [09:31<43:14, 32.84s/it]"
          ]
        },
        {
          "name": "stdout",
          "output_type": "stream",
          "text": [
            "\n",
            "Test Epoch: 20\tAccuracy: 631/2730 (23%)\n",
            "\n",
            "Train Epoch: 21 [0/6370 (0%)]\tLoss: 2.688466\n"
          ]
        },
        {
          "name": "stderr",
          "output_type": "stream",
          "text": [
            " 21%|██▏       | 21.284153005462965/100 [09:39<34:00, 25.93s/it]"
          ]
        },
        {
          "name": "stdout",
          "output_type": "stream",
          "text": [
            "Train Epoch: 21 [2500/6370 (39%)]\tLoss: 2.314754\n"
          ]
        },
        {
          "name": "stderr",
          "output_type": "stream",
          "text": [
            " 22%|██▏       | 21.55737704917878/100 [09:46<34:30, 26.39s/it] "
          ]
        },
        {
          "name": "stdout",
          "output_type": "stream",
          "text": [
            "Train Epoch: 21 [5000/6370 (78%)]\tLoss: 2.492720\n"
          ]
        },
        {
          "name": "stderr",
          "output_type": "stream",
          "text": [
            " 22%|██▏       | 22.005464480872714/100 [10:00<42:13, 32.48s/it]"
          ]
        },
        {
          "name": "stdout",
          "output_type": "stream",
          "text": [
            "\n",
            "Test Epoch: 21\tAccuracy: 694/2730 (25%)\n",
            "\n",
            "Train Epoch: 22 [0/6370 (0%)]\tLoss: 2.408988\n"
          ]
        },
        {
          "name": "stderr",
          "output_type": "stream",
          "text": [
            " 22%|██▏       | 22.284153005462844/100 [10:08<37:42, 29.11s/it]"
          ]
        },
        {
          "name": "stdout",
          "output_type": "stream",
          "text": [
            "Train Epoch: 22 [2500/6370 (39%)]\tLoss: 2.665833\n"
          ]
        },
        {
          "name": "stderr",
          "output_type": "stream",
          "text": [
            " 23%|██▎       | 22.55737704917866/100 [10:16<39:21, 30.49s/it] "
          ]
        },
        {
          "name": "stdout",
          "output_type": "stream",
          "text": [
            "Train Epoch: 22 [5000/6370 (78%)]\tLoss: 2.537468\n"
          ]
        },
        {
          "name": "stderr",
          "output_type": "stream",
          "text": [
            " 23%|██▎       | 23.005464480872593/100 [10:28<37:29, 29.21s/it]"
          ]
        },
        {
          "name": "stdout",
          "output_type": "stream",
          "text": [
            "\n",
            "Test Epoch: 22\tAccuracy: 658/2730 (24%)\n",
            "\n",
            "Train Epoch: 23 [0/6370 (0%)]\tLoss: 2.264377\n"
          ]
        },
        {
          "name": "stderr",
          "output_type": "stream",
          "text": [
            " 23%|██▎       | 23.284153005462723/100 [10:36<35:49, 28.02s/it]"
          ]
        },
        {
          "name": "stdout",
          "output_type": "stream",
          "text": [
            "Train Epoch: 23 [2500/6370 (39%)]\tLoss: 2.533360\n"
          ]
        },
        {
          "name": "stderr",
          "output_type": "stream",
          "text": [
            " 24%|██▎       | 23.557377049178537/100 [10:43<35:04, 27.53s/it]"
          ]
        },
        {
          "name": "stdout",
          "output_type": "stream",
          "text": [
            "Train Epoch: 23 [5000/6370 (78%)]\tLoss: 2.770298\n"
          ]
        },
        {
          "name": "stderr",
          "output_type": "stream",
          "text": [
            " 24%|██▍       | 24.005464480872472/100 [10:56<36:37, 28.91s/it]"
          ]
        },
        {
          "name": "stdout",
          "output_type": "stream",
          "text": [
            "\n",
            "Test Epoch: 23\tAccuracy: 663/2730 (24%)\n",
            "\n",
            "Train Epoch: 24 [0/6370 (0%)]\tLoss: 2.368146\n"
          ]
        },
        {
          "name": "stderr",
          "output_type": "stream",
          "text": [
            " 24%|██▍       | 24.284153005462603/100 [11:04<35:32, 28.16s/it]"
          ]
        },
        {
          "name": "stdout",
          "output_type": "stream",
          "text": [
            "Train Epoch: 24 [2500/6370 (39%)]\tLoss: 2.429051\n"
          ]
        },
        {
          "name": "stderr",
          "output_type": "stream",
          "text": [
            " 25%|██▍       | 24.557377049178417/100 [11:11<33:36, 26.73s/it]"
          ]
        },
        {
          "name": "stdout",
          "output_type": "stream",
          "text": [
            "Train Epoch: 24 [5000/6370 (78%)]\tLoss: 2.472533\n"
          ]
        },
        {
          "name": "stderr",
          "output_type": "stream",
          "text": [
            " 25%|██▌       | 25.00546448087235/100 [11:24<39:39, 31.73s/it] "
          ]
        },
        {
          "name": "stdout",
          "output_type": "stream",
          "text": [
            "\n",
            "Test Epoch: 24\tAccuracy: 664/2730 (24%)\n",
            "\n",
            "Train Epoch: 25 [0/6370 (0%)]\tLoss: 2.745430\n"
          ]
        },
        {
          "name": "stderr",
          "output_type": "stream",
          "text": [
            " 25%|██▌       | 25.284153005462482/100 [11:32<34:08, 27.42s/it]"
          ]
        },
        {
          "name": "stdout",
          "output_type": "stream",
          "text": [
            "Train Epoch: 25 [2500/6370 (39%)]\tLoss: 2.388246\n"
          ]
        },
        {
          "name": "stderr",
          "output_type": "stream",
          "text": [
            " 26%|██▌       | 25.557377049178296/100 [11:40<33:16, 26.82s/it]"
          ]
        },
        {
          "name": "stdout",
          "output_type": "stream",
          "text": [
            "Train Epoch: 25 [5000/6370 (78%)]\tLoss: 2.298038\n"
          ]
        },
        {
          "name": "stderr",
          "output_type": "stream",
          "text": [
            " 26%|██▌       | 26.00546448087223/100 [11:53<35:59, 29.19s/it] "
          ]
        },
        {
          "name": "stdout",
          "output_type": "stream",
          "text": [
            "\n",
            "Test Epoch: 25\tAccuracy: 703/2730 (26%)\n",
            "\n",
            "Train Epoch: 26 [0/6370 (0%)]\tLoss: 2.376659\n"
          ]
        },
        {
          "name": "stderr",
          "output_type": "stream",
          "text": [
            " 26%|██▋       | 26.28415300546236/100 [12:00<30:39, 24.95s/it] "
          ]
        },
        {
          "name": "stdout",
          "output_type": "stream",
          "text": [
            "Train Epoch: 26 [2500/6370 (39%)]\tLoss: 2.481820\n"
          ]
        },
        {
          "name": "stderr",
          "output_type": "stream",
          "text": [
            " 27%|██▋       | 26.557377049178175/100 [12:07<31:57, 26.10s/it]"
          ]
        },
        {
          "name": "stdout",
          "output_type": "stream",
          "text": [
            "Train Epoch: 26 [5000/6370 (78%)]\tLoss: 2.093824\n"
          ]
        },
        {
          "name": "stderr",
          "output_type": "stream",
          "text": [
            " 27%|██▋       | 27.00546448087211/100 [12:19<34:25, 28.29s/it] "
          ]
        },
        {
          "name": "stdout",
          "output_type": "stream",
          "text": [
            "\n",
            "Test Epoch: 26\tAccuracy: 685/2730 (25%)\n",
            "\n",
            "Train Epoch: 27 [0/6370 (0%)]\tLoss: 2.231421\n"
          ]
        },
        {
          "name": "stderr",
          "output_type": "stream",
          "text": [
            " 27%|██▋       | 27.28415300546224/100 [12:26<31:06, 25.67s/it] "
          ]
        },
        {
          "name": "stdout",
          "output_type": "stream",
          "text": [
            "Train Epoch: 27 [2500/6370 (39%)]\tLoss: 2.148373\n"
          ]
        },
        {
          "name": "stderr",
          "output_type": "stream",
          "text": [
            " 28%|██▊       | 27.557377049178054/100 [12:33<29:37, 24.54s/it]"
          ]
        },
        {
          "name": "stdout",
          "output_type": "stream",
          "text": [
            "Train Epoch: 27 [5000/6370 (78%)]\tLoss: 2.531750\n"
          ]
        },
        {
          "name": "stderr",
          "output_type": "stream",
          "text": [
            " 28%|██▊       | 28.00546448087199/100 [12:45<33:51, 28.22s/it] "
          ]
        },
        {
          "name": "stdout",
          "output_type": "stream",
          "text": [
            "\n",
            "Test Epoch: 27\tAccuracy: 671/2730 (25%)\n",
            "\n",
            "Train Epoch: 28 [0/6370 (0%)]\tLoss: 2.283594\n"
          ]
        },
        {
          "name": "stderr",
          "output_type": "stream",
          "text": [
            " 28%|██▊       | 28.28415300546212/100 [12:53<30:30, 25.52s/it] "
          ]
        },
        {
          "name": "stdout",
          "output_type": "stream",
          "text": [
            "Train Epoch: 28 [2500/6370 (39%)]\tLoss: 2.283394\n"
          ]
        },
        {
          "name": "stderr",
          "output_type": "stream",
          "text": [
            " 29%|██▊       | 28.557377049177934/100 [12:59<28:28, 23.92s/it]"
          ]
        },
        {
          "name": "stdout",
          "output_type": "stream",
          "text": [
            "Train Epoch: 28 [5000/6370 (78%)]\tLoss: 2.385953\n"
          ]
        },
        {
          "name": "stderr",
          "output_type": "stream",
          "text": [
            " 29%|██▉       | 29.00546448087187/100 [13:12<34:14, 28.94s/it] "
          ]
        },
        {
          "name": "stdout",
          "output_type": "stream",
          "text": [
            "\n",
            "Test Epoch: 28\tAccuracy: 698/2730 (26%)\n",
            "\n",
            "Train Epoch: 29 [0/6370 (0%)]\tLoss: 2.029836\n"
          ]
        },
        {
          "name": "stderr",
          "output_type": "stream",
          "text": [
            " 29%|██▉       | 29.284153005462/100 [13:19<30:12, 25.63s/it]   "
          ]
        },
        {
          "name": "stdout",
          "output_type": "stream",
          "text": [
            "Train Epoch: 29 [2500/6370 (39%)]\tLoss: 2.247369\n"
          ]
        },
        {
          "name": "stderr",
          "output_type": "stream",
          "text": [
            " 30%|██▉       | 29.557377049177813/100 [13:26<28:18, 24.10s/it]"
          ]
        },
        {
          "name": "stdout",
          "output_type": "stream",
          "text": [
            "Train Epoch: 29 [5000/6370 (78%)]\tLoss: 2.352926\n"
          ]
        },
        {
          "name": "stderr",
          "output_type": "stream",
          "text": [
            " 30%|███       | 30.005464480871748/100 [13:38<33:16, 28.52s/it]"
          ]
        },
        {
          "name": "stdout",
          "output_type": "stream",
          "text": [
            "\n",
            "Test Epoch: 29\tAccuracy: 678/2730 (25%)\n",
            "\n",
            "Train Epoch: 30 [0/6370 (0%)]\tLoss: 2.273705\n"
          ]
        },
        {
          "name": "stderr",
          "output_type": "stream",
          "text": [
            " 30%|███       | 30.284153005461878/100 [13:45<28:14, 24.31s/it]"
          ]
        },
        {
          "name": "stdout",
          "output_type": "stream",
          "text": [
            "Train Epoch: 30 [2500/6370 (39%)]\tLoss: 2.701171\n"
          ]
        },
        {
          "name": "stderr",
          "output_type": "stream",
          "text": [
            " 31%|███       | 30.557377049177692/100 [13:52<27:44, 23.97s/it]"
          ]
        },
        {
          "name": "stdout",
          "output_type": "stream",
          "text": [
            "Train Epoch: 30 [5000/6370 (78%)]\tLoss: 2.336396\n"
          ]
        },
        {
          "name": "stderr",
          "output_type": "stream",
          "text": [
            " 31%|███       | 31.005464480871627/100 [14:04<32:50, 28.56s/it]"
          ]
        },
        {
          "name": "stdout",
          "output_type": "stream",
          "text": [
            "\n",
            "Test Epoch: 30\tAccuracy: 722/2730 (26%)\n",
            "\n",
            "Train Epoch: 31 [0/6370 (0%)]\tLoss: 2.633617\n"
          ]
        },
        {
          "name": "stderr",
          "output_type": "stream",
          "text": [
            " 31%|███▏      | 31.284153005461757/100 [14:11<28:16, 24.69s/it]"
          ]
        },
        {
          "name": "stdout",
          "output_type": "stream",
          "text": [
            "Train Epoch: 31 [2500/6370 (39%)]\tLoss: 2.652572\n"
          ]
        },
        {
          "name": "stderr",
          "output_type": "stream",
          "text": [
            " 32%|███▏      | 31.55737704917757/100 [14:18<27:25, 24.04s/it] "
          ]
        },
        {
          "name": "stdout",
          "output_type": "stream",
          "text": [
            "Train Epoch: 31 [5000/6370 (78%)]\tLoss: 2.692453\n"
          ]
        },
        {
          "name": "stderr",
          "output_type": "stream",
          "text": [
            " 32%|███▏      | 32.00546448087151/100 [14:31<32:04, 28.31s/it] "
          ]
        },
        {
          "name": "stdout",
          "output_type": "stream",
          "text": [
            "\n",
            "Test Epoch: 31\tAccuracy: 677/2730 (25%)\n",
            "\n",
            "Train Epoch: 32 [0/6370 (0%)]\tLoss: 2.107140\n"
          ]
        },
        {
          "name": "stderr",
          "output_type": "stream",
          "text": [
            " 32%|███▏      | 32.28415300546164/100 [14:38<28:10, 24.97s/it] "
          ]
        },
        {
          "name": "stdout",
          "output_type": "stream",
          "text": [
            "Train Epoch: 32 [2500/6370 (39%)]\tLoss: 2.231489\n"
          ]
        },
        {
          "name": "stderr",
          "output_type": "stream",
          "text": [
            " 33%|███▎      | 32.557377049177454/100 [14:44<26:42, 23.77s/it]"
          ]
        },
        {
          "name": "stdout",
          "output_type": "stream",
          "text": [
            "Train Epoch: 32 [5000/6370 (78%)]\tLoss: 2.480394\n"
          ]
        },
        {
          "name": "stderr",
          "output_type": "stream",
          "text": [
            " 33%|███▎      | 33.00546448087139/100 [14:57<31:42, 28.40s/it] "
          ]
        },
        {
          "name": "stdout",
          "output_type": "stream",
          "text": [
            "\n",
            "Test Epoch: 32\tAccuracy: 735/2730 (27%)\n",
            "\n",
            "Train Epoch: 33 [0/6370 (0%)]\tLoss: 2.293630\n"
          ]
        },
        {
          "name": "stderr",
          "output_type": "stream",
          "text": [
            " 33%|███▎      | 33.28415300546152/100 [15:04<27:18, 24.57s/it] "
          ]
        },
        {
          "name": "stdout",
          "output_type": "stream",
          "text": [
            "Train Epoch: 33 [2500/6370 (39%)]\tLoss: 2.207356\n"
          ]
        },
        {
          "name": "stderr",
          "output_type": "stream",
          "text": [
            " 34%|███▎      | 33.55737704917733/100 [15:10<27:12, 24.57s/it] "
          ]
        },
        {
          "name": "stdout",
          "output_type": "stream",
          "text": [
            "Train Epoch: 33 [5000/6370 (78%)]\tLoss: 2.343200\n"
          ]
        },
        {
          "name": "stderr",
          "output_type": "stream",
          "text": [
            " 34%|███▍      | 34.00546448087127/100 [27:20<5:26:11, 296.57s/it]     "
          ]
        },
        {
          "name": "stdout",
          "output_type": "stream",
          "text": [
            "\n",
            "Test Epoch: 33\tAccuracy: 708/2730 (26%)\n",
            "\n",
            "Train Epoch: 34 [0/6370 (0%)]\tLoss: 2.423010\n"
          ]
        },
        {
          "name": "stderr",
          "output_type": "stream",
          "text": [
            " 34%|███▍      | 34.2841530054614/100 [27:28<26:20, 24.05s/it]     "
          ]
        },
        {
          "name": "stdout",
          "output_type": "stream",
          "text": [
            "Train Epoch: 34 [2500/6370 (39%)]\tLoss: 2.152426\n"
          ]
        },
        {
          "name": "stderr",
          "output_type": "stream",
          "text": [
            " 35%|███▍      | 34.55737704917721/100 [27:34<26:16, 24.09s/it] "
          ]
        },
        {
          "name": "stdout",
          "output_type": "stream",
          "text": [
            "Train Epoch: 34 [5000/6370 (78%)]\tLoss: 1.926395\n"
          ]
        },
        {
          "name": "stderr",
          "output_type": "stream",
          "text": [
            " 35%|███▌      | 35.00546448087115/100 [27:46<29:59, 27.68s/it] "
          ]
        },
        {
          "name": "stdout",
          "output_type": "stream",
          "text": [
            "\n",
            "Test Epoch: 34\tAccuracy: 757/2730 (28%)\n",
            "\n",
            "Train Epoch: 35 [0/6370 (0%)]\tLoss: 2.088232\n"
          ]
        },
        {
          "name": "stderr",
          "output_type": "stream",
          "text": [
            " 35%|███▌      | 35.28415300546128/100 [27:53<27:16, 25.28s/it] "
          ]
        },
        {
          "name": "stdout",
          "output_type": "stream",
          "text": [
            "Train Epoch: 35 [2500/6370 (39%)]\tLoss: 2.390640\n"
          ]
        },
        {
          "name": "stderr",
          "output_type": "stream",
          "text": [
            " 36%|███▌      | 35.55737704917709/100 [28:00<25:38, 23.87s/it] "
          ]
        },
        {
          "name": "stdout",
          "output_type": "stream",
          "text": [
            "Train Epoch: 35 [5000/6370 (78%)]\tLoss: 2.302678\n"
          ]
        },
        {
          "name": "stderr",
          "output_type": "stream",
          "text": [
            " 36%|███▌      | 36.00546448087103/100 [50:13<96:38:34, 5436.63s/it]   "
          ]
        },
        {
          "name": "stdout",
          "output_type": "stream",
          "text": [
            "\n",
            "Test Epoch: 35\tAccuracy: 717/2730 (26%)\n",
            "\n",
            "Train Epoch: 36 [0/6370 (0%)]\tLoss: 2.214765\n"
          ]
        },
        {
          "name": "stderr",
          "output_type": "stream",
          "text": [
            " 36%|███▋      | 36.28415300546116/100 [50:20<27:32, 25.94s/it]      "
          ]
        },
        {
          "name": "stdout",
          "output_type": "stream",
          "text": [
            "Train Epoch: 36 [2500/6370 (39%)]\tLoss: 2.082636\n"
          ]
        },
        {
          "name": "stderr",
          "output_type": "stream",
          "text": [
            " 37%|███▋      | 36.55737704917697/100 [50:27<26:29, 25.06s/it] "
          ]
        },
        {
          "name": "stdout",
          "output_type": "stream",
          "text": [
            "Train Epoch: 36 [5000/6370 (78%)]\tLoss: 2.289799\n"
          ]
        },
        {
          "name": "stderr",
          "output_type": "stream",
          "text": [
            " 37%|███▋      | 37.005464480870906/100 [50:39<29:26, 28.04s/it]"
          ]
        },
        {
          "name": "stdout",
          "output_type": "stream",
          "text": [
            "\n",
            "Test Epoch: 36\tAccuracy: 760/2730 (28%)\n",
            "\n",
            "Train Epoch: 37 [0/6370 (0%)]\tLoss: 2.188935\n"
          ]
        },
        {
          "name": "stderr",
          "output_type": "stream",
          "text": [
            " 37%|███▋      | 37.284153005461036/100 [50:46<25:02, 23.96s/it]"
          ]
        },
        {
          "name": "stdout",
          "output_type": "stream",
          "text": [
            "Train Epoch: 37 [2500/6370 (39%)]\tLoss: 1.855067\n"
          ]
        },
        {
          "name": "stderr",
          "output_type": "stream",
          "text": [
            " 38%|███▊      | 37.55737704917685/100 [50:53<23:56, 23.01s/it] "
          ]
        },
        {
          "name": "stdout",
          "output_type": "stream",
          "text": [
            "Train Epoch: 37 [5000/6370 (78%)]\tLoss: 2.252408\n"
          ]
        },
        {
          "name": "stderr",
          "output_type": "stream",
          "text": [
            " 38%|███▊      | 38.005464480870785/100 [51:26<28:37, 27.71s/it]    "
          ]
        },
        {
          "name": "stdout",
          "output_type": "stream",
          "text": [
            "\n",
            "Test Epoch: 37\tAccuracy: 692/2730 (25%)\n",
            "\n",
            "Train Epoch: 38 [0/6370 (0%)]\tLoss: 2.135270\n"
          ]
        },
        {
          "name": "stderr",
          "output_type": "stream",
          "text": [
            " 38%|███▊      | 38.284153005460915/100 [51:33<26:51, 26.11s/it]"
          ]
        },
        {
          "name": "stdout",
          "output_type": "stream",
          "text": [
            "Train Epoch: 38 [2500/6370 (39%)]\tLoss: 2.071273\n"
          ]
        },
        {
          "name": "stderr",
          "output_type": "stream",
          "text": [
            " 39%|███▊      | 38.55737704917673/100 [51:40<25:34, 24.97s/it] "
          ]
        },
        {
          "name": "stdout",
          "output_type": "stream",
          "text": [
            "Train Epoch: 38 [5000/6370 (78%)]\tLoss: 2.265909\n"
          ]
        },
        {
          "name": "stderr",
          "output_type": "stream",
          "text": [
            " 39%|███▉      | 39.005464480870664/100 [51:52<28:26, 27.98s/it]"
          ]
        },
        {
          "name": "stdout",
          "output_type": "stream",
          "text": [
            "\n",
            "Test Epoch: 38\tAccuracy: 676/2730 (25%)\n",
            "\n",
            "Train Epoch: 39 [0/6370 (0%)]\tLoss: 1.835281\n"
          ]
        },
        {
          "name": "stderr",
          "output_type": "stream",
          "text": [
            " 39%|███▉      | 39.284153005460794/100 [51:59<25:01, 24.73s/it]"
          ]
        },
        {
          "name": "stdout",
          "output_type": "stream",
          "text": [
            "Train Epoch: 39 [2500/6370 (39%)]\tLoss: 2.310611\n"
          ]
        },
        {
          "name": "stderr",
          "output_type": "stream",
          "text": [
            " 40%|███▉      | 39.55737704917661/100 [52:06<24:39, 24.47s/it] "
          ]
        },
        {
          "name": "stdout",
          "output_type": "stream",
          "text": [
            "Train Epoch: 39 [5000/6370 (78%)]\tLoss: 1.916017\n"
          ]
        },
        {
          "name": "stderr",
          "output_type": "stream",
          "text": [
            " 40%|████      | 40.00546448087054/100 [56:32<26:58, 26.98s/it]       "
          ]
        },
        {
          "name": "stdout",
          "output_type": "stream",
          "text": [
            "\n",
            "Test Epoch: 39\tAccuracy: 718/2730 (26%)\n",
            "\n",
            "Train Epoch: 40 [0/6370 (0%)]\tLoss: 2.250723\n"
          ]
        },
        {
          "name": "stderr",
          "output_type": "stream",
          "text": [
            " 40%|████      | 40.284153005460674/100 [56:39<24:06, 24.22s/it]"
          ]
        },
        {
          "name": "stdout",
          "output_type": "stream",
          "text": [
            "Train Epoch: 40 [2500/6370 (39%)]\tLoss: 2.241044\n"
          ]
        },
        {
          "name": "stderr",
          "output_type": "stream",
          "text": [
            " 41%|████      | 40.55737704917649/100 [56:46<22:20, 22.55s/it] "
          ]
        },
        {
          "name": "stdout",
          "output_type": "stream",
          "text": [
            "Train Epoch: 40 [5000/6370 (78%)]\tLoss: 1.973095\n"
          ]
        },
        {
          "name": "stderr",
          "output_type": "stream",
          "text": [
            " 41%|████      | 41.00546448087042/100 [56:58<27:20, 27.81s/it] "
          ]
        },
        {
          "name": "stdout",
          "output_type": "stream",
          "text": [
            "\n",
            "Test Epoch: 40\tAccuracy: 734/2730 (27%)\n",
            "\n",
            "Train Epoch: 41 [0/6370 (0%)]\tLoss: 2.538571\n"
          ]
        },
        {
          "name": "stderr",
          "output_type": "stream",
          "text": [
            " 41%|████▏     | 41.28415300546055/100 [57:04<24:10, 24.70s/it] "
          ]
        },
        {
          "name": "stdout",
          "output_type": "stream",
          "text": [
            "Train Epoch: 41 [2500/6370 (39%)]\tLoss: 2.222399\n"
          ]
        },
        {
          "name": "stderr",
          "output_type": "stream",
          "text": [
            " 42%|████▏     | 41.55737704917637/100 [57:44<22:42, 23.31s/it]      "
          ]
        },
        {
          "name": "stdout",
          "output_type": "stream",
          "text": [
            "Train Epoch: 41 [5000/6370 (78%)]\tLoss: 2.021390\n"
          ]
        },
        {
          "name": "stderr",
          "output_type": "stream",
          "text": [
            " 42%|████▏     | 42.0054644808703/100 [57:56<26:17, 27.21s/it]  "
          ]
        },
        {
          "name": "stdout",
          "output_type": "stream",
          "text": [
            "\n",
            "Test Epoch: 41\tAccuracy: 700/2730 (26%)\n",
            "\n",
            "Train Epoch: 42 [0/6370 (0%)]\tLoss: 2.028072\n"
          ]
        },
        {
          "name": "stderr",
          "output_type": "stream",
          "text": [
            " 42%|████▏     | 42.28415300546043/100 [58:03<24:43, 25.70s/it] "
          ]
        },
        {
          "name": "stdout",
          "output_type": "stream",
          "text": [
            "Train Epoch: 42 [2500/6370 (39%)]\tLoss: 2.023379\n"
          ]
        },
        {
          "name": "stderr",
          "output_type": "stream",
          "text": [
            " 43%|████▎     | 42.557377049176246/100 [58:10<22:08, 23.13s/it]"
          ]
        },
        {
          "name": "stdout",
          "output_type": "stream",
          "text": [
            "Train Epoch: 42 [5000/6370 (78%)]\tLoss: 2.161581\n"
          ]
        },
        {
          "name": "stderr",
          "output_type": "stream",
          "text": [
            " 43%|████▎     | 43.00546448087018/100 [58:22<26:06, 27.49s/it] "
          ]
        },
        {
          "name": "stdout",
          "output_type": "stream",
          "text": [
            "\n",
            "Test Epoch: 42\tAccuracy: 731/2730 (27%)\n",
            "\n",
            "Train Epoch: 43 [0/6370 (0%)]\tLoss: 1.884131\n"
          ]
        },
        {
          "name": "stderr",
          "output_type": "stream",
          "text": [
            " 43%|████▎     | 43.28415300546031/100 [1:07:04<30:32, 32.31s/it]       "
          ]
        },
        {
          "name": "stdout",
          "output_type": "stream",
          "text": [
            "Train Epoch: 43 [2500/6370 (39%)]\tLoss: 2.309969\n"
          ]
        },
        {
          "name": "stderr",
          "output_type": "stream",
          "text": [
            " 44%|████▎     | 43.557377049176125/100 [1:07:10<23:13, 24.68s/it]"
          ]
        },
        {
          "name": "stdout",
          "output_type": "stream",
          "text": [
            "Train Epoch: 43 [5000/6370 (78%)]\tLoss: 2.287027\n"
          ]
        },
        {
          "name": "stderr",
          "output_type": "stream",
          "text": [
            " 44%|████▍     | 44.00546448087006/100 [1:07:22<25:38, 27.47s/it] "
          ]
        },
        {
          "name": "stdout",
          "output_type": "stream",
          "text": [
            "\n",
            "Test Epoch: 43\tAccuracy: 753/2730 (28%)\n",
            "\n",
            "Train Epoch: 44 [0/6370 (0%)]\tLoss: 1.923625\n"
          ]
        },
        {
          "name": "stderr",
          "output_type": "stream",
          "text": [
            " 44%|████▍     | 44.28415300546019/100 [1:07:29<22:08, 23.84s/it] "
          ]
        },
        {
          "name": "stdout",
          "output_type": "stream",
          "text": [
            "Train Epoch: 44 [2500/6370 (39%)]\tLoss: 1.909375\n"
          ]
        },
        {
          "name": "stderr",
          "output_type": "stream",
          "text": [
            " 45%|████▍     | 44.557377049176004/100 [1:07:36<22:10, 24.01s/it]"
          ]
        },
        {
          "name": "stdout",
          "output_type": "stream",
          "text": [
            "Train Epoch: 44 [5000/6370 (78%)]\tLoss: 2.216265\n"
          ]
        },
        {
          "name": "stderr",
          "output_type": "stream",
          "text": [
            " 45%|████▍     | 44.99999999999562/100 [1:12:14<54:12:59, 3548.72s/it]   "
          ]
        },
        {
          "name": "stdout",
          "output_type": "stream",
          "text": [
            "\n",
            "Test Epoch: 44\tAccuracy: 755/2730 (28%)\n",
            "\n"
          ]
        },
        {
          "name": "stderr",
          "output_type": "stream",
          "text": [
            " 45%|████▌     | 45.010928961744256/100 [1:12:15<26:51:09, 1757.98s/it]"
          ]
        },
        {
          "name": "stdout",
          "output_type": "stream",
          "text": [
            "Train Epoch: 45 [0/6370 (0%)]\tLoss: 1.945584\n"
          ]
        },
        {
          "name": "stderr",
          "output_type": "stream",
          "text": [
            " 45%|████▌     | 45.28415300546007/100 [1:12:22<22:28, 24.64s/it]      "
          ]
        },
        {
          "name": "stdout",
          "output_type": "stream",
          "text": [
            "Train Epoch: 45 [2500/6370 (39%)]\tLoss: 2.142882\n"
          ]
        },
        {
          "name": "stderr",
          "output_type": "stream",
          "text": [
            " 46%|████▌     | 45.557377049175884/100 [1:12:28<20:52, 23.01s/it]"
          ]
        },
        {
          "name": "stdout",
          "output_type": "stream",
          "text": [
            "Train Epoch: 45 [5000/6370 (78%)]\tLoss: 2.333172\n"
          ]
        },
        {
          "name": "stderr",
          "output_type": "stream",
          "text": [
            " 46%|████▌     | 46.00546448086982/100 [1:12:41<24:52, 27.63s/it] "
          ]
        },
        {
          "name": "stdout",
          "output_type": "stream",
          "text": [
            "\n",
            "Test Epoch: 45\tAccuracy: 772/2730 (28%)\n",
            "\n",
            "Train Epoch: 46 [0/6370 (0%)]\tLoss: 1.910751\n"
          ]
        },
        {
          "name": "stderr",
          "output_type": "stream",
          "text": [
            " 46%|████▋     | 46.28415300545995/100 [1:12:48<22:06, 24.70s/it] "
          ]
        },
        {
          "name": "stdout",
          "output_type": "stream",
          "text": [
            "Train Epoch: 46 [2500/6370 (39%)]\tLoss: 2.030431\n"
          ]
        },
        {
          "name": "stderr",
          "output_type": "stream",
          "text": [
            " 47%|████▋     | 46.55737704917576/100 [1:12:54<21:16, 23.89s/it] "
          ]
        },
        {
          "name": "stdout",
          "output_type": "stream",
          "text": [
            "Train Epoch: 46 [5000/6370 (78%)]\tLoss: 2.234255\n"
          ]
        },
        {
          "name": "stderr",
          "output_type": "stream",
          "text": [
            " 47%|████▋     | 47.0054644808697/100 [1:19:33<24:09, 27.35s/it]        "
          ]
        },
        {
          "name": "stdout",
          "output_type": "stream",
          "text": [
            "\n",
            "Test Epoch: 46\tAccuracy: 710/2730 (26%)\n",
            "\n",
            "Train Epoch: 47 [0/6370 (0%)]\tLoss: 2.050442\n"
          ]
        },
        {
          "name": "stderr",
          "output_type": "stream",
          "text": [
            " 47%|████▋     | 47.28415300545983/100 [1:19:40<22:27, 25.56s/it] "
          ]
        },
        {
          "name": "stdout",
          "output_type": "stream",
          "text": [
            "Train Epoch: 47 [2500/6370 (39%)]\tLoss: 2.254934\n"
          ]
        },
        {
          "name": "stderr",
          "output_type": "stream",
          "text": [
            " 48%|████▊     | 47.55737704917564/100 [1:19:46<21:30, 24.61s/it] "
          ]
        },
        {
          "name": "stdout",
          "output_type": "stream",
          "text": [
            "Train Epoch: 47 [5000/6370 (78%)]\tLoss: 1.892974\n"
          ]
        },
        {
          "name": "stderr",
          "output_type": "stream",
          "text": [
            " 48%|████▊     | 48.00546448086958/100 [1:19:58<24:08, 27.87s/it] "
          ]
        },
        {
          "name": "stdout",
          "output_type": "stream",
          "text": [
            "\n",
            "Test Epoch: 47\tAccuracy: 691/2730 (25%)\n",
            "\n",
            "Train Epoch: 48 [0/6370 (0%)]\tLoss: 1.830008\n"
          ]
        },
        {
          "name": "stderr",
          "output_type": "stream",
          "text": [
            " 48%|████▊     | 48.28415300545971/100 [1:20:05<20:17, 23.54s/it] "
          ]
        },
        {
          "name": "stdout",
          "output_type": "stream",
          "text": [
            "Train Epoch: 48 [2500/6370 (39%)]\tLoss: 1.822313\n"
          ]
        },
        {
          "name": "stderr",
          "output_type": "stream",
          "text": [
            " 49%|████▊     | 48.55737704917552/100 [1:20:12<21:31, 25.11s/it] "
          ]
        },
        {
          "name": "stdout",
          "output_type": "stream",
          "text": [
            "Train Epoch: 48 [5000/6370 (78%)]\tLoss: 1.736928\n"
          ]
        },
        {
          "name": "stderr",
          "output_type": "stream",
          "text": [
            " 49%|████▉     | 49.005464480869456/100 [1:27:08<23:36, 27.78s/it]       "
          ]
        },
        {
          "name": "stdout",
          "output_type": "stream",
          "text": [
            "\n",
            "Test Epoch: 48\tAccuracy: 720/2730 (26%)\n",
            "\n",
            "Train Epoch: 49 [0/6370 (0%)]\tLoss: 2.043779\n"
          ]
        },
        {
          "name": "stderr",
          "output_type": "stream",
          "text": [
            " 49%|████▉     | 49.284153005459586/100 [1:27:15<21:22, 25.29s/it]"
          ]
        },
        {
          "name": "stdout",
          "output_type": "stream",
          "text": [
            "Train Epoch: 49 [2500/6370 (39%)]\tLoss: 1.981508\n"
          ]
        },
        {
          "name": "stderr",
          "output_type": "stream",
          "text": [
            " 50%|████▉     | 49.5573770491754/100 [1:27:21<20:49, 24.76s/it]  "
          ]
        },
        {
          "name": "stdout",
          "output_type": "stream",
          "text": [
            "Train Epoch: 49 [5000/6370 (78%)]\tLoss: 2.021190\n"
          ]
        },
        {
          "name": "stderr",
          "output_type": "stream",
          "text": [
            " 50%|█████     | 50.005464480869335/100 [1:27:33<23:20, 28.01s/it]"
          ]
        },
        {
          "name": "stdout",
          "output_type": "stream",
          "text": [
            "\n",
            "Test Epoch: 49\tAccuracy: 718/2730 (26%)\n",
            "\n",
            "Train Epoch: 50 [0/6370 (0%)]\tLoss: 1.682336\n"
          ]
        },
        {
          "name": "stderr",
          "output_type": "stream",
          "text": [
            " 50%|█████     | 50.284153005459466/100 [1:27:40<19:45, 23.84s/it]"
          ]
        },
        {
          "name": "stdout",
          "output_type": "stream",
          "text": [
            "Train Epoch: 50 [2500/6370 (39%)]\tLoss: 2.250337\n"
          ]
        },
        {
          "name": "stderr",
          "output_type": "stream",
          "text": [
            " 51%|█████     | 50.55737704917528/100 [1:33:28<20:24, 24.77s/it]        "
          ]
        },
        {
          "name": "stdout",
          "output_type": "stream",
          "text": [
            "Train Epoch: 50 [5000/6370 (78%)]\tLoss: 2.011495\n"
          ]
        },
        {
          "name": "stderr",
          "output_type": "stream",
          "text": [
            " 51%|█████     | 51.005464480869215/100 [1:33:40<22:42, 27.82s/it]"
          ]
        },
        {
          "name": "stdout",
          "output_type": "stream",
          "text": [
            "\n",
            "Test Epoch: 50\tAccuracy: 727/2730 (27%)\n",
            "\n",
            "Train Epoch: 51 [0/6370 (0%)]\tLoss: 1.764809\n"
          ]
        },
        {
          "name": "stderr",
          "output_type": "stream",
          "text": [
            " 51%|█████▏    | 51.284153005459345/100 [1:33:47<20:49, 25.66s/it]"
          ]
        },
        {
          "name": "stdout",
          "output_type": "stream",
          "text": [
            "Train Epoch: 51 [2500/6370 (39%)]\tLoss: 2.020231\n"
          ]
        },
        {
          "name": "stderr",
          "output_type": "stream",
          "text": [
            " 52%|█████▏    | 51.55737704917516/100 [1:33:54<20:09, 24.97s/it] "
          ]
        },
        {
          "name": "stdout",
          "output_type": "stream",
          "text": [
            "Train Epoch: 51 [5000/6370 (78%)]\tLoss: 2.263924\n"
          ]
        },
        {
          "name": "stderr",
          "output_type": "stream",
          "text": [
            " 52%|█████▏    | 52.005464480869094/100 [1:34:06<22:06, 27.64s/it]"
          ]
        },
        {
          "name": "stdout",
          "output_type": "stream",
          "text": [
            "\n",
            "Test Epoch: 51\tAccuracy: 755/2730 (28%)\n",
            "\n",
            "Train Epoch: 52 [0/6370 (0%)]\tLoss: 2.022139\n"
          ]
        },
        {
          "name": "stderr",
          "output_type": "stream",
          "text": [
            " 52%|█████▏    | 52.284153005459224/100 [1:42:10<23:22, 29.39s/it]      "
          ]
        },
        {
          "name": "stdout",
          "output_type": "stream",
          "text": [
            "Train Epoch: 52 [2500/6370 (39%)]\tLoss: 1.950803\n"
          ]
        },
        {
          "name": "stderr",
          "output_type": "stream",
          "text": [
            " 53%|█████▎    | 52.55737704917504/100 [1:42:16<18:29, 23.39s/it] "
          ]
        },
        {
          "name": "stdout",
          "output_type": "stream",
          "text": [
            "Train Epoch: 52 [5000/6370 (78%)]\tLoss: 2.293644\n"
          ]
        },
        {
          "name": "stderr",
          "output_type": "stream",
          "text": [
            " 53%|█████▎    | 53.00546448086897/100 [1:42:28<21:44, 27.76s/it] "
          ]
        },
        {
          "name": "stdout",
          "output_type": "stream",
          "text": [
            "\n",
            "Test Epoch: 52\tAccuracy: 753/2730 (28%)\n",
            "\n",
            "Train Epoch: 53 [0/6370 (0%)]\tLoss: 1.713286\n"
          ]
        },
        {
          "name": "stderr",
          "output_type": "stream",
          "text": [
            " 53%|█████▎    | 53.2841530054591/100 [1:42:35<19:37, 25.20s/it]  "
          ]
        },
        {
          "name": "stdout",
          "output_type": "stream",
          "text": [
            "Train Epoch: 53 [2500/6370 (39%)]\tLoss: 1.764782\n"
          ]
        },
        {
          "name": "stderr",
          "output_type": "stream",
          "text": [
            " 54%|█████▎    | 53.55737704917492/100 [1:42:42<17:47, 22.99s/it] "
          ]
        },
        {
          "name": "stdout",
          "output_type": "stream",
          "text": [
            "Train Epoch: 53 [5000/6370 (78%)]\tLoss: 1.772595\n"
          ]
        },
        {
          "name": "stderr",
          "output_type": "stream",
          "text": [
            " 54%|█████▍    | 54.00546448086885/100 [1:42:56<22:56, 29.92s/it]   "
          ]
        },
        {
          "name": "stdout",
          "output_type": "stream",
          "text": [
            "\n",
            "Test Epoch: 53\tAccuracy: 765/2730 (28%)\n",
            "\n",
            "Train Epoch: 54 [0/6370 (0%)]\tLoss: 1.807325\n"
          ]
        },
        {
          "name": "stderr",
          "output_type": "stream",
          "text": [
            " 54%|█████▍    | 54.28415300545898/100 [1:43:03<18:01, 23.66s/it] "
          ]
        },
        {
          "name": "stdout",
          "output_type": "stream",
          "text": [
            "Train Epoch: 54 [2500/6370 (39%)]\tLoss: 1.716432\n"
          ]
        },
        {
          "name": "stderr",
          "output_type": "stream",
          "text": [
            " 55%|█████▍    | 54.5573770491748/100 [1:43:09<18:58, 25.06s/it]  "
          ]
        },
        {
          "name": "stdout",
          "output_type": "stream",
          "text": [
            "Train Epoch: 54 [5000/6370 (78%)]\tLoss: 1.804827\n"
          ]
        },
        {
          "name": "stderr",
          "output_type": "stream",
          "text": [
            " 55%|█████▌    | 55.00546448086873/100 [1:43:21<20:31, 27.36s/it] "
          ]
        },
        {
          "name": "stdout",
          "output_type": "stream",
          "text": [
            "\n",
            "Test Epoch: 54\tAccuracy: 783/2730 (29%)\n",
            "\n",
            "Train Epoch: 55 [0/6370 (0%)]\tLoss: 2.008993\n"
          ]
        },
        {
          "name": "stderr",
          "output_type": "stream",
          "text": [
            " 55%|█████▌    | 55.28415300545886/100 [1:43:28<18:44, 25.14s/it] "
          ]
        },
        {
          "name": "stdout",
          "output_type": "stream",
          "text": [
            "Train Epoch: 55 [2500/6370 (39%)]\tLoss: 1.589691\n"
          ]
        },
        {
          "name": "stderr",
          "output_type": "stream",
          "text": [
            " 56%|█████▌    | 55.557377049174676/100 [1:43:35<17:30, 23.64s/it]"
          ]
        },
        {
          "name": "stdout",
          "output_type": "stream",
          "text": [
            "Train Epoch: 55 [5000/6370 (78%)]\tLoss: 1.898504\n"
          ]
        },
        {
          "name": "stderr",
          "output_type": "stream",
          "text": [
            " 56%|█████▌    | 56.00546448086861/100 [1:50:48<19:47, 26.99s/it]        "
          ]
        },
        {
          "name": "stdout",
          "output_type": "stream",
          "text": [
            "\n",
            "Test Epoch: 55\tAccuracy: 750/2730 (27%)\n",
            "\n",
            "Train Epoch: 56 [0/6370 (0%)]\tLoss: 1.540730\n"
          ]
        },
        {
          "name": "stderr",
          "output_type": "stream",
          "text": [
            " 56%|█████▋    | 56.28415300545874/100 [1:50:55<17:15, 23.70s/it] "
          ]
        },
        {
          "name": "stdout",
          "output_type": "stream",
          "text": [
            "Train Epoch: 56 [2500/6370 (39%)]\tLoss: 1.803941\n"
          ]
        },
        {
          "name": "stderr",
          "output_type": "stream",
          "text": [
            " 57%|█████▋    | 56.557377049174555/100 [1:51:02<17:03, 23.55s/it]"
          ]
        },
        {
          "name": "stdout",
          "output_type": "stream",
          "text": [
            "Train Epoch: 56 [5000/6370 (78%)]\tLoss: 1.680819\n"
          ]
        },
        {
          "name": "stderr",
          "output_type": "stream",
          "text": [
            " 57%|█████▋    | 57.00546448086849/100 [1:51:14<19:48, 27.64s/it] "
          ]
        },
        {
          "name": "stdout",
          "output_type": "stream",
          "text": [
            "\n",
            "Test Epoch: 56\tAccuracy: 709/2730 (26%)\n",
            "\n",
            "Train Epoch: 57 [0/6370 (0%)]\tLoss: 1.628688\n"
          ]
        },
        {
          "name": "stderr",
          "output_type": "stream",
          "text": [
            " 57%|█████▋    | 57.28415300545862/100 [1:51:21<17:13, 24.20s/it] "
          ]
        },
        {
          "name": "stdout",
          "output_type": "stream",
          "text": [
            "Train Epoch: 57 [2500/6370 (39%)]\tLoss: 1.757424\n"
          ]
        },
        {
          "name": "stderr",
          "output_type": "stream",
          "text": [
            " 58%|█████▊    | 57.557377049174434/100 [1:51:27<17:09, 24.25s/it]"
          ]
        },
        {
          "name": "stdout",
          "output_type": "stream",
          "text": [
            "Train Epoch: 57 [5000/6370 (78%)]\tLoss: 1.803563\n"
          ]
        },
        {
          "name": "stderr",
          "output_type": "stream",
          "text": [
            " 58%|█████▊    | 58.00546448086837/100 [2:39:51<6:26:19, 551.98s/it]     "
          ]
        },
        {
          "name": "stdout",
          "output_type": "stream",
          "text": [
            "\n",
            "Test Epoch: 57\tAccuracy: 759/2730 (28%)\n",
            "\n",
            "Train Epoch: 58 [0/6370 (0%)]\tLoss: 1.999834\n"
          ]
        },
        {
          "name": "stderr",
          "output_type": "stream",
          "text": [
            " 58%|█████▊    | 58.2841530054585/100 [2:41:24<17:47, 25.60s/it]       "
          ]
        },
        {
          "name": "stdout",
          "output_type": "stream",
          "text": [
            "Train Epoch: 58 [2500/6370 (39%)]\tLoss: 2.055449\n"
          ]
        },
        {
          "name": "stderr",
          "output_type": "stream",
          "text": [
            " 59%|█████▊    | 58.55737704917431/100 [2:41:31<16:41, 24.17s/it] "
          ]
        },
        {
          "name": "stdout",
          "output_type": "stream",
          "text": [
            "Train Epoch: 58 [5000/6370 (78%)]\tLoss: 2.042644\n"
          ]
        },
        {
          "name": "stderr",
          "output_type": "stream",
          "text": [
            " 59%|█████▉    | 59.00546448086825/100 [2:41:44<19:15, 28.19s/it] "
          ]
        },
        {
          "name": "stdout",
          "output_type": "stream",
          "text": [
            "\n",
            "Test Epoch: 58\tAccuracy: 736/2730 (27%)\n",
            "\n",
            "Train Epoch: 59 [0/6370 (0%)]\tLoss: 1.760242\n"
          ]
        },
        {
          "name": "stderr",
          "output_type": "stream",
          "text": [
            " 59%|█████▉    | 59.28415300545838/100 [2:41:51<16:16, 23.99s/it] "
          ]
        },
        {
          "name": "stdout",
          "output_type": "stream",
          "text": [
            "Train Epoch: 59 [2500/6370 (39%)]\tLoss: 1.811864\n"
          ]
        },
        {
          "name": "stderr",
          "output_type": "stream",
          "text": [
            " 60%|█████▉    | 59.55737704917419/100 [2:41:58<16:05, 23.87s/it] "
          ]
        },
        {
          "name": "stdout",
          "output_type": "stream",
          "text": [
            "Train Epoch: 59 [5000/6370 (78%)]\tLoss: 2.133299\n"
          ]
        },
        {
          "name": "stderr",
          "output_type": "stream",
          "text": [
            " 60%|██████    | 60.00546448086813/100 [2:56:03<25:42, 38.56s/it]        "
          ]
        },
        {
          "name": "stdout",
          "output_type": "stream",
          "text": [
            "\n",
            "Test Epoch: 59\tAccuracy: 784/2730 (29%)\n",
            "\n",
            "Train Epoch: 60 [0/6370 (0%)]\tLoss: 1.607324\n"
          ]
        },
        {
          "name": "stderr",
          "output_type": "stream",
          "text": [
            " 60%|██████    | 60.28415300545826/100 [2:56:09<14:49, 22.39s/it] "
          ]
        },
        {
          "name": "stdout",
          "output_type": "stream",
          "text": [
            "Train Epoch: 60 [2500/6370 (39%)]\tLoss: 1.719714\n"
          ]
        },
        {
          "name": "stderr",
          "output_type": "stream",
          "text": [
            " 61%|██████    | 60.55737704917407/100 [2:56:15<14:25, 21.95s/it] "
          ]
        },
        {
          "name": "stdout",
          "output_type": "stream",
          "text": [
            "Train Epoch: 60 [5000/6370 (78%)]\tLoss: 1.958375\n"
          ]
        },
        {
          "name": "stderr",
          "output_type": "stream",
          "text": [
            " 61%|██████    | 61.00546448086801/100 [2:56:25<13:28, 20.74s/it] "
          ]
        },
        {
          "name": "stdout",
          "output_type": "stream",
          "text": [
            "\n",
            "Test Epoch: 60\tAccuracy: 710/2730 (26%)\n",
            "\n",
            "Train Epoch: 61 [0/6370 (0%)]\tLoss: 1.693324\n"
          ]
        },
        {
          "name": "stderr",
          "output_type": "stream",
          "text": [
            " 61%|██████▏   | 61.28415300545814/100 [2:56:32<14:33, 22.55s/it] "
          ]
        },
        {
          "name": "stdout",
          "output_type": "stream",
          "text": [
            "Train Epoch: 61 [2500/6370 (39%)]\tLoss: 1.722686\n"
          ]
        },
        {
          "name": "stderr",
          "output_type": "stream",
          "text": [
            " 62%|██████▏   | 61.55737704917395/100 [2:56:38<14:19, 22.35s/it] "
          ]
        },
        {
          "name": "stdout",
          "output_type": "stream",
          "text": [
            "Train Epoch: 61 [5000/6370 (78%)]\tLoss: 1.824111\n"
          ]
        },
        {
          "name": "stderr",
          "output_type": "stream",
          "text": [
            " 62%|██████▏   | 62.005464480867886/100 [3:14:16<4:44:37, 449.46s/it]    "
          ]
        },
        {
          "name": "stdout",
          "output_type": "stream",
          "text": [
            "\n",
            "Test Epoch: 61\tAccuracy: 731/2730 (27%)\n",
            "\n",
            "Train Epoch: 62 [0/6370 (0%)]\tLoss: 1.554203\n"
          ]
        },
        {
          "name": "stderr",
          "output_type": "stream",
          "text": [
            " 62%|██████▏   | 62.284153005458016/100 [3:27:54<18:12, 28.98s/it]       "
          ]
        },
        {
          "name": "stdout",
          "output_type": "stream",
          "text": [
            "Train Epoch: 62 [2500/6370 (39%)]\tLoss: 1.892450\n"
          ]
        },
        {
          "name": "stderr",
          "output_type": "stream",
          "text": [
            " 63%|██████▎   | 62.55737704917383/100 [3:28:00<14:07, 22.64s/it] "
          ]
        },
        {
          "name": "stdout",
          "output_type": "stream",
          "text": [
            "Train Epoch: 62 [5000/6370 (78%)]\tLoss: 2.021837\n"
          ]
        },
        {
          "name": "stderr",
          "output_type": "stream",
          "text": [
            " 63%|██████▎   | 63.005464480867765/100 [3:28:10<12:47, 20.76s/it]"
          ]
        },
        {
          "name": "stdout",
          "output_type": "stream",
          "text": [
            "\n",
            "Test Epoch: 62\tAccuracy: 746/2730 (27%)\n",
            "\n",
            "Train Epoch: 63 [0/6370 (0%)]\tLoss: 1.514026\n"
          ]
        },
        {
          "name": "stderr",
          "output_type": "stream",
          "text": [
            " 63%|██████▎   | 63.284153005457895/100 [3:28:17<13:45, 22.50s/it]"
          ]
        },
        {
          "name": "stdout",
          "output_type": "stream",
          "text": [
            "Train Epoch: 63 [2500/6370 (39%)]\tLoss: 1.858255\n"
          ]
        },
        {
          "name": "stderr",
          "output_type": "stream",
          "text": [
            " 64%|██████▎   | 63.55737704917371/100 [3:28:23<13:56, 22.95s/it] "
          ]
        },
        {
          "name": "stdout",
          "output_type": "stream",
          "text": [
            "Train Epoch: 63 [5000/6370 (78%)]\tLoss: 2.087876\n"
          ]
        },
        {
          "name": "stderr",
          "output_type": "stream",
          "text": [
            " 64%|██████▍   | 64.00546448086764/100 [3:28:33<12:22, 20.63s/it] "
          ]
        },
        {
          "name": "stdout",
          "output_type": "stream",
          "text": [
            "\n",
            "Test Epoch: 63\tAccuracy: 737/2730 (27%)\n",
            "\n",
            "Train Epoch: 64 [0/6370 (0%)]\tLoss: 1.722272\n"
          ]
        },
        {
          "name": "stderr",
          "output_type": "stream",
          "text": [
            " 64%|██████▍   | 64.28415300545814/100 [3:46:12<5:46:44, 582.50s/it]    "
          ]
        },
        {
          "name": "stdout",
          "output_type": "stream",
          "text": [
            "Train Epoch: 64 [2500/6370 (39%)]\tLoss: 1.987357\n"
          ]
        },
        {
          "name": "stderr",
          "output_type": "stream",
          "text": [
            " 65%|██████▍   | 64.5573770491743/100 [4:01:36<21:27, 36.32s/it]        "
          ]
        },
        {
          "name": "stdout",
          "output_type": "stream",
          "text": [
            "Train Epoch: 64 [5000/6370 (78%)]\tLoss: 1.833364\n"
          ]
        },
        {
          "name": "stderr",
          "output_type": "stream",
          "text": [
            " 65%|██████▌   | 65.00546448086882/100 [4:01:46<12:04, 20.70s/it]"
          ]
        },
        {
          "name": "stdout",
          "output_type": "stream",
          "text": [
            "\n",
            "Test Epoch: 64\tAccuracy: 705/2730 (26%)\n",
            "\n",
            "Train Epoch: 65 [0/6370 (0%)]\tLoss: 1.117733\n"
          ]
        },
        {
          "name": "stderr",
          "output_type": "stream",
          "text": [
            " 65%|██████▌   | 65.28415300545932/100 [4:01:53<12:49, 22.17s/it]"
          ]
        },
        {
          "name": "stdout",
          "output_type": "stream",
          "text": [
            "Train Epoch: 65 [2500/6370 (39%)]\tLoss: 1.719470\n"
          ]
        },
        {
          "name": "stderr",
          "output_type": "stream",
          "text": [
            " 66%|██████▌   | 65.55737704917549/100 [4:01:59<13:06, 22.85s/it]"
          ]
        },
        {
          "name": "stdout",
          "output_type": "stream",
          "text": [
            "Train Epoch: 65 [5000/6370 (78%)]\tLoss: 1.703344\n"
          ]
        },
        {
          "name": "stderr",
          "output_type": "stream",
          "text": [
            " 66%|██████▌   | 66.00546448087/100 [4:02:09<12:01, 21.22s/it]   "
          ]
        },
        {
          "name": "stdout",
          "output_type": "stream",
          "text": [
            "\n",
            "Test Epoch: 65\tAccuracy: 733/2730 (27%)\n",
            "\n",
            "Train Epoch: 66 [0/6370 (0%)]\tLoss: 1.589462\n"
          ]
        },
        {
          "name": "stderr",
          "output_type": "stream",
          "text": [
            " 66%|██████▋   | 66.2841530054605/100 [4:02:15<12:50, 22.85s/it] "
          ]
        },
        {
          "name": "stdout",
          "output_type": "stream",
          "text": [
            "Train Epoch: 66 [2500/6370 (39%)]\tLoss: 1.936594\n"
          ]
        },
        {
          "name": "stderr",
          "output_type": "stream",
          "text": [
            " 67%|██████▋   | 66.55737704917667/100 [4:19:14<5:12:44, 561.10s/it]    "
          ]
        },
        {
          "name": "stdout",
          "output_type": "stream",
          "text": [
            "Train Epoch: 66 [5000/6370 (78%)]\tLoss: 1.304336\n"
          ]
        },
        {
          "name": "stderr",
          "output_type": "stream",
          "text": [
            " 67%|██████▋   | 67.00546448087118/100 [4:52:02<3:40:18, 400.64s/it]    "
          ]
        },
        {
          "name": "stdout",
          "output_type": "stream",
          "text": [
            "\n",
            "Test Epoch: 66\tAccuracy: 683/2730 (25%)\n",
            "\n",
            "Train Epoch: 67 [0/6370 (0%)]\tLoss: 1.951325\n"
          ]
        },
        {
          "name": "stderr",
          "output_type": "stream",
          "text": [
            " 67%|██████▋   | 67.28415300546168/100 [5:07:23<15:58, 29.30s/it]       "
          ]
        },
        {
          "name": "stdout",
          "output_type": "stream",
          "text": [
            "Train Epoch: 67 [2500/6370 (39%)]\tLoss: 1.672715\n"
          ]
        },
        {
          "name": "stderr",
          "output_type": "stream",
          "text": [
            " 68%|██████▊   | 67.55737704917784/100 [5:07:29<12:22, 22.88s/it]"
          ]
        },
        {
          "name": "stdout",
          "output_type": "stream",
          "text": [
            "Train Epoch: 67 [5000/6370 (78%)]\tLoss: 1.697061\n"
          ]
        },
        {
          "name": "stderr",
          "output_type": "stream",
          "text": [
            " 68%|██████▊   | 68.00546448087236/100 [5:07:39<10:59, 20.61s/it]"
          ]
        },
        {
          "name": "stdout",
          "output_type": "stream",
          "text": [
            "\n",
            "Test Epoch: 67\tAccuracy: 738/2730 (27%)\n",
            "\n",
            "Train Epoch: 68 [0/6370 (0%)]\tLoss: 1.607045\n"
          ]
        },
        {
          "name": "stderr",
          "output_type": "stream",
          "text": [
            " 68%|██████▊   | 68.28415300546285/100 [5:07:45<11:45, 22.25s/it]"
          ]
        },
        {
          "name": "stdout",
          "output_type": "stream",
          "text": [
            "Train Epoch: 68 [2500/6370 (39%)]\tLoss: 1.586434\n"
          ]
        },
        {
          "name": "stderr",
          "output_type": "stream",
          "text": [
            " 69%|██████▊   | 68.55737704917902/100 [5:07:51<11:38, 22.23s/it]"
          ]
        },
        {
          "name": "stdout",
          "output_type": "stream",
          "text": [
            "Train Epoch: 68 [5000/6370 (78%)]\tLoss: 1.540637\n"
          ]
        },
        {
          "name": "stderr",
          "output_type": "stream",
          "text": [
            " 69%|██████▉   | 69.00546448087354/100 [5:08:01<10:36, 20.54s/it]"
          ]
        },
        {
          "name": "stdout",
          "output_type": "stream",
          "text": [
            "\n",
            "Test Epoch: 68\tAccuracy: 736/2730 (27%)\n",
            "\n",
            "Train Epoch: 69 [0/6370 (0%)]\tLoss: 1.654488\n"
          ]
        },
        {
          "name": "stderr",
          "output_type": "stream",
          "text": [
            " 69%|██████▉   | 69.28415300546403/100 [5:24:42<27:02:48, 3169.98s/it]  "
          ]
        },
        {
          "name": "stdout",
          "output_type": "stream",
          "text": [
            "Train Epoch: 69 [2500/6370 (39%)]\tLoss: 1.792563\n"
          ]
        },
        {
          "name": "stderr",
          "output_type": "stream",
          "text": [
            " 70%|██████▉   | 69.5573770491802/100 [5:40:27<53:48, 106.06s/it]       "
          ]
        },
        {
          "name": "stdout",
          "output_type": "stream",
          "text": [
            "Train Epoch: 69 [5000/6370 (78%)]\tLoss: 1.641183\n"
          ]
        },
        {
          "name": "stderr",
          "output_type": "stream",
          "text": [
            " 70%|███████   | 70.00546448087472/100 [6:12:03<42:17, 84.60s/it]       "
          ]
        },
        {
          "name": "stdout",
          "output_type": "stream",
          "text": [
            "\n",
            "Test Epoch: 69\tAccuracy: 716/2730 (26%)\n",
            "\n",
            "Train Epoch: 70 [0/6370 (0%)]\tLoss: 1.659223\n"
          ]
        },
        {
          "name": "stderr",
          "output_type": "stream",
          "text": [
            " 70%|███████   | 70.28415300546521/100 [6:28:29<12:51, 25.95s/it]       "
          ]
        },
        {
          "name": "stdout",
          "output_type": "stream",
          "text": [
            "Train Epoch: 70 [2500/6370 (39%)]\tLoss: 1.828934\n"
          ]
        },
        {
          "name": "stderr",
          "output_type": "stream",
          "text": [
            " 71%|███████   | 70.55191256830706/100 [6:45:04<11:16, 22.97s/it]       "
          ]
        },
        {
          "name": "stdout",
          "output_type": "stream",
          "text": [
            "Train Epoch: 70 [5000/6370 (78%)]\tLoss: 1.580028\n"
          ]
        },
        {
          "name": "stderr",
          "output_type": "stream",
          "text": [
            " 71%|███████   | 70.99453551912725/100 [7:17:01<10:43, 22.18s/it]       "
          ]
        },
        {
          "name": "stdout",
          "output_type": "stream",
          "text": [
            "\n",
            "Test Epoch: 70\tAccuracy: 727/2730 (27%)\n",
            "\n"
          ]
        },
        {
          "name": "stderr",
          "output_type": "stream",
          "text": [
            " 71%|███████   | 71.01092896175022/100 [7:32:23<235:43:26, 29273.33s/it]"
          ]
        },
        {
          "name": "stdout",
          "output_type": "stream",
          "text": [
            "Train Epoch: 71 [0/6370 (0%)]\tLoss: 1.437747\n"
          ]
        },
        {
          "name": "stderr",
          "output_type": "stream",
          "text": [
            " 71%|███████▏  | 71.2841530054664/100 [7:50:24<9:29:27, 1189.85s/it]    "
          ]
        },
        {
          "name": "stdout",
          "output_type": "stream",
          "text": [
            "Train Epoch: 71 [2500/6370 (39%)]\tLoss: 1.705005\n"
          ]
        },
        {
          "name": "stderr",
          "output_type": "stream",
          "text": [
            " 72%|███████▏  | 71.55737704918256/100 [8:07:32<25:42, 54.23s/it]       "
          ]
        },
        {
          "name": "stdout",
          "output_type": "stream",
          "text": [
            "Train Epoch: 71 [5000/6370 (78%)]\tLoss: 1.986930\n"
          ]
        },
        {
          "name": "stderr",
          "output_type": "stream",
          "text": [
            " 72%|███████▏  | 72.00546448087708/100 [8:19:11<09:39, 20.71s/it]       "
          ]
        },
        {
          "name": "stdout",
          "output_type": "stream",
          "text": [
            "\n",
            "Test Epoch: 71\tAccuracy: 743/2730 (27%)\n",
            "\n",
            "Train Epoch: 72 [0/6370 (0%)]\tLoss: 1.409550\n"
          ]
        },
        {
          "name": "stderr",
          "output_type": "stream",
          "text": [
            " 72%|███████▏  | 72.28415300546757/100 [8:19:18<10:25, 22.56s/it]"
          ]
        },
        {
          "name": "stdout",
          "output_type": "stream",
          "text": [
            "Train Epoch: 72 [2500/6370 (39%)]\tLoss: 1.947865\n"
          ]
        },
        {
          "name": "stderr",
          "output_type": "stream",
          "text": [
            " 73%|███████▎  | 72.55737704918374/100 [8:19:24<10:17, 22.51s/it]"
          ]
        },
        {
          "name": "stdout",
          "output_type": "stream",
          "text": [
            "Train Epoch: 72 [5000/6370 (78%)]\tLoss: 1.802972\n"
          ]
        },
        {
          "name": "stderr",
          "output_type": "stream",
          "text": [
            " 73%|███████▎  | 73.00546448087826/100 [8:19:33<08:38, 19.19s/it]"
          ]
        },
        {
          "name": "stdout",
          "output_type": "stream",
          "text": [
            "\n",
            "Test Epoch: 72\tAccuracy: 730/2730 (27%)\n",
            "\n",
            "Train Epoch: 73 [0/6370 (0%)]\tLoss: 1.857961\n"
          ]
        },
        {
          "name": "stderr",
          "output_type": "stream",
          "text": [
            " 73%|███████▎  | 73.28415300546875/100 [8:19:40<09:45, 21.90s/it]"
          ]
        },
        {
          "name": "stdout",
          "output_type": "stream",
          "text": [
            "Train Epoch: 73 [2500/6370 (39%)]\tLoss: 1.509138\n"
          ]
        },
        {
          "name": "stderr",
          "output_type": "stream",
          "text": [
            " 74%|███████▎  | 73.55737704918492/100 [8:19:46<10:06, 22.95s/it]"
          ]
        },
        {
          "name": "stdout",
          "output_type": "stream",
          "text": [
            "Train Epoch: 73 [5000/6370 (78%)]\tLoss: 1.872249\n"
          ]
        },
        {
          "name": "stderr",
          "output_type": "stream",
          "text": [
            " 74%|███████▍  | 74.00546448087944/100 [8:29:07<08:58, 20.72s/it]       "
          ]
        },
        {
          "name": "stdout",
          "output_type": "stream",
          "text": [
            "\n",
            "Test Epoch: 73\tAccuracy: 716/2730 (26%)\n",
            "\n",
            "Train Epoch: 74 [0/6370 (0%)]\tLoss: 1.562962\n"
          ]
        },
        {
          "name": "stderr",
          "output_type": "stream",
          "text": [
            " 74%|███████▍  | 74.28415300546993/100 [8:29:14<09:39, 22.52s/it]"
          ]
        },
        {
          "name": "stdout",
          "output_type": "stream",
          "text": [
            "Train Epoch: 74 [2500/6370 (39%)]\tLoss: 2.028533\n"
          ]
        },
        {
          "name": "stderr",
          "output_type": "stream",
          "text": [
            " 75%|███████▍  | 74.5573770491861/100 [8:29:20<09:30, 22.42s/it] "
          ]
        },
        {
          "name": "stdout",
          "output_type": "stream",
          "text": [
            "Train Epoch: 74 [5000/6370 (78%)]\tLoss: 1.673037\n"
          ]
        },
        {
          "name": "stderr",
          "output_type": "stream",
          "text": [
            " 75%|███████▌  | 75.00546448088062/100 [8:29:30<08:36, 20.67s/it]"
          ]
        },
        {
          "name": "stdout",
          "output_type": "stream",
          "text": [
            "\n",
            "Test Epoch: 74\tAccuracy: 701/2730 (26%)\n",
            "\n",
            "Train Epoch: 75 [0/6370 (0%)]\tLoss: 1.480499\n"
          ]
        },
        {
          "name": "stderr",
          "output_type": "stream",
          "text": [
            " 75%|███████▌  | 75.28415300547111/100 [8:29:36<09:15, 22.46s/it]"
          ]
        },
        {
          "name": "stdout",
          "output_type": "stream",
          "text": [
            "Train Epoch: 75 [2500/6370 (39%)]\tLoss: 1.630906\n"
          ]
        },
        {
          "name": "stderr",
          "output_type": "stream",
          "text": [
            " 76%|███████▌  | 75.55737704918728/100 [8:29:42<09:13, 22.63s/it]"
          ]
        },
        {
          "name": "stdout",
          "output_type": "stream",
          "text": [
            "Train Epoch: 75 [5000/6370 (78%)]\tLoss: 1.698115\n"
          ]
        },
        {
          "name": "stderr",
          "output_type": "stream",
          "text": [
            " 76%|███████▌  | 76.0054644808818/100 [8:47:12<18:02, 45.10s/it]        "
          ]
        },
        {
          "name": "stdout",
          "output_type": "stream",
          "text": [
            "\n",
            "Test Epoch: 75\tAccuracy: 730/2730 (27%)\n",
            "\n",
            "Train Epoch: 76 [0/6370 (0%)]\tLoss: 1.620081\n"
          ]
        },
        {
          "name": "stderr",
          "output_type": "stream",
          "text": [
            " 76%|███████▋  | 76.28415300547229/100 [8:57:16<09:10, 23.23s/it]       "
          ]
        },
        {
          "name": "stdout",
          "output_type": "stream",
          "text": [
            "Train Epoch: 76 [2500/6370 (39%)]\tLoss: 1.569751\n"
          ]
        },
        {
          "name": "stderr",
          "output_type": "stream",
          "text": [
            " 77%|███████▋  | 76.55737704918846/100 [8:57:22<09:02, 23.12s/it]"
          ]
        },
        {
          "name": "stdout",
          "output_type": "stream",
          "text": [
            "Train Epoch: 76 [5000/6370 (78%)]\tLoss: 1.539487\n"
          ]
        },
        {
          "name": "stderr",
          "output_type": "stream",
          "text": [
            " 77%|███████▋  | 77.00546448088298/100 [8:57:32<07:53, 20.61s/it]"
          ]
        },
        {
          "name": "stdout",
          "output_type": "stream",
          "text": [
            "\n",
            "Test Epoch: 76\tAccuracy: 697/2730 (26%)\n",
            "\n",
            "Train Epoch: 77 [0/6370 (0%)]\tLoss: 1.624928\n"
          ]
        },
        {
          "name": "stderr",
          "output_type": "stream",
          "text": [
            " 77%|███████▋  | 77.28415300547347/100 [8:57:38<08:28, 22.38s/it]"
          ]
        },
        {
          "name": "stdout",
          "output_type": "stream",
          "text": [
            "Train Epoch: 77 [2500/6370 (39%)]\tLoss: 1.914225\n"
          ]
        },
        {
          "name": "stderr",
          "output_type": "stream",
          "text": [
            " 78%|███████▊  | 77.55737704918964/100 [8:57:44<08:18, 22.21s/it]"
          ]
        },
        {
          "name": "stdout",
          "output_type": "stream",
          "text": [
            "Train Epoch: 77 [5000/6370 (78%)]\tLoss: 1.800550\n"
          ]
        },
        {
          "name": "stderr",
          "output_type": "stream",
          "text": [
            " 78%|███████▊  | 78.00546448088416/100 [8:57:54<07:33, 20.61s/it]"
          ]
        },
        {
          "name": "stdout",
          "output_type": "stream",
          "text": [
            "\n",
            "Test Epoch: 77\tAccuracy: 745/2730 (27%)\n",
            "\n",
            "Train Epoch: 78 [0/6370 (0%)]\tLoss: 1.898276\n"
          ]
        },
        {
          "name": "stderr",
          "output_type": "stream",
          "text": [
            " 78%|███████▊  | 78.28415300547465/100 [9:06:43<42:38, 117.84s/it]      "
          ]
        },
        {
          "name": "stdout",
          "output_type": "stream",
          "text": [
            "Train Epoch: 78 [2500/6370 (39%)]\tLoss: 1.958336\n"
          ]
        },
        {
          "name": "stderr",
          "output_type": "stream",
          "text": [
            " 79%|███████▊  | 78.55737704919082/100 [9:06:49<08:01, 22.48s/it] "
          ]
        },
        {
          "name": "stdout",
          "output_type": "stream",
          "text": [
            "Train Epoch: 78 [5000/6370 (78%)]\tLoss: 1.639344\n"
          ]
        },
        {
          "name": "stderr",
          "output_type": "stream",
          "text": [
            " 79%|███████▉  | 79.00546448088534/100 [9:06:59<07:11, 20.56s/it]"
          ]
        },
        {
          "name": "stdout",
          "output_type": "stream",
          "text": [
            "\n",
            "Test Epoch: 78\tAccuracy: 718/2730 (26%)\n",
            "\n",
            "Train Epoch: 79 [0/6370 (0%)]\tLoss: 1.632924\n"
          ]
        },
        {
          "name": "stderr",
          "output_type": "stream",
          "text": [
            " 79%|███████▉  | 79.28415300547583/100 [9:07:06<07:49, 22.65s/it]"
          ]
        },
        {
          "name": "stdout",
          "output_type": "stream",
          "text": [
            "Train Epoch: 79 [2500/6370 (39%)]\tLoss: 1.670971\n"
          ]
        },
        {
          "name": "stderr",
          "output_type": "stream",
          "text": [
            " 80%|███████▉  | 79.557377049192/100 [9:07:12<07:36, 22.33s/it]  "
          ]
        },
        {
          "name": "stdout",
          "output_type": "stream",
          "text": [
            "Train Epoch: 79 [5000/6370 (78%)]\tLoss: 1.515728\n"
          ]
        },
        {
          "name": "stderr",
          "output_type": "stream",
          "text": [
            " 80%|████████  | 80.00546448088652/100 [9:07:22<06:49, 20.46s/it]"
          ]
        },
        {
          "name": "stdout",
          "output_type": "stream",
          "text": [
            "\n",
            "Test Epoch: 79\tAccuracy: 737/2730 (27%)\n",
            "\n",
            "Train Epoch: 80 [0/6370 (0%)]\tLoss: 1.517294\n"
          ]
        },
        {
          "name": "stderr",
          "output_type": "stream",
          "text": [
            " 80%|████████  | 80.27868852460269/100 [9:07:28<07:18, 22.25s/it]"
          ]
        },
        {
          "name": "stdout",
          "output_type": "stream",
          "text": [
            "Train Epoch: 80 [2500/6370 (39%)]\tLoss: 1.597372\n"
          ]
        },
        {
          "name": "stderr",
          "output_type": "stream",
          "text": [
            " 81%|████████  | 80.55737704919318/100 [9:13:57<07:22, 22.78s/it]       "
          ]
        },
        {
          "name": "stdout",
          "output_type": "stream",
          "text": [
            "Train Epoch: 80 [5000/6370 (78%)]\tLoss: 1.960625\n"
          ]
        },
        {
          "name": "stderr",
          "output_type": "stream",
          "text": [
            " 81%|████████  | 81.0054644808877/100 [9:14:06<06:28, 20.46s/it] "
          ]
        },
        {
          "name": "stdout",
          "output_type": "stream",
          "text": [
            "\n",
            "Test Epoch: 80\tAccuracy: 715/2730 (26%)\n",
            "\n",
            "Train Epoch: 81 [0/6370 (0%)]\tLoss: 1.547410\n"
          ]
        },
        {
          "name": "stderr",
          "output_type": "stream",
          "text": [
            " 81%|████████▏ | 81.28415300547819/100 [9:14:13<06:59, 22.44s/it]"
          ]
        },
        {
          "name": "stdout",
          "output_type": "stream",
          "text": [
            "Train Epoch: 81 [2500/6370 (39%)]\tLoss: 1.348000\n"
          ]
        },
        {
          "name": "stderr",
          "output_type": "stream",
          "text": [
            " 82%|████████▏ | 81.55737704919436/100 [9:14:19<06:44, 21.92s/it]"
          ]
        },
        {
          "name": "stdout",
          "output_type": "stream",
          "text": [
            "Train Epoch: 81 [5000/6370 (78%)]\tLoss: 1.540751\n"
          ]
        },
        {
          "name": "stderr",
          "output_type": "stream",
          "text": [
            " 82%|████████▏ | 82.00546448088888/100 [9:14:29<06:12, 20.73s/it]"
          ]
        },
        {
          "name": "stdout",
          "output_type": "stream",
          "text": [
            "\n",
            "Test Epoch: 81\tAccuracy: 772/2730 (28%)\n",
            "\n",
            "Train Epoch: 82 [0/6370 (0%)]\tLoss: 1.659752\n"
          ]
        },
        {
          "name": "stderr",
          "output_type": "stream",
          "text": [
            " 82%|████████▏ | 82.28415300547937/100 [9:14:35<06:34, 22.27s/it]"
          ]
        },
        {
          "name": "stdout",
          "output_type": "stream",
          "text": [
            "Train Epoch: 82 [2500/6370 (39%)]\tLoss: 1.380640\n"
          ]
        },
        {
          "name": "stderr",
          "output_type": "stream",
          "text": [
            " 83%|████████▎ | 82.55737704919554/100 [9:16:05<06:28, 22.25s/it]     "
          ]
        },
        {
          "name": "stdout",
          "output_type": "stream",
          "text": [
            "Train Epoch: 82 [5000/6370 (78%)]\tLoss: 1.408794\n"
          ]
        },
        {
          "name": "stderr",
          "output_type": "stream",
          "text": [
            " 83%|████████▎ | 83.00546448089005/100 [9:16:15<05:47, 20.44s/it]"
          ]
        },
        {
          "name": "stdout",
          "output_type": "stream",
          "text": [
            "\n",
            "Test Epoch: 82\tAccuracy: 721/2730 (26%)\n",
            "\n",
            "Train Epoch: 83 [0/6370 (0%)]\tLoss: 1.878350\n"
          ]
        },
        {
          "name": "stderr",
          "output_type": "stream",
          "text": [
            " 83%|████████▎ | 83.28415300548055/100 [9:16:21<06:14, 22.38s/it]"
          ]
        },
        {
          "name": "stdout",
          "output_type": "stream",
          "text": [
            "Train Epoch: 83 [2500/6370 (39%)]\tLoss: 1.480448\n"
          ]
        },
        {
          "name": "stderr",
          "output_type": "stream",
          "text": [
            " 84%|████████▎ | 83.55737704919672/100 [9:16:27<06:06, 22.32s/it]"
          ]
        },
        {
          "name": "stdout",
          "output_type": "stream",
          "text": [
            "Train Epoch: 83 [5000/6370 (78%)]\tLoss: 1.727464\n"
          ]
        },
        {
          "name": "stderr",
          "output_type": "stream",
          "text": [
            " 84%|████████▍ | 84.00546448089123/100 [9:16:37<05:34, 20.91s/it]"
          ]
        },
        {
          "name": "stdout",
          "output_type": "stream",
          "text": [
            "\n",
            "Test Epoch: 83\tAccuracy: 739/2730 (27%)\n",
            "\n",
            "Train Epoch: 84 [0/6370 (0%)]\tLoss: 1.406078\n"
          ]
        },
        {
          "name": "stderr",
          "output_type": "stream",
          "text": [
            " 84%|████████▍ | 84.28415300548173/100 [9:16:43<05:47, 22.11s/it]"
          ]
        },
        {
          "name": "stdout",
          "output_type": "stream",
          "text": [
            "Train Epoch: 84 [2500/6370 (39%)]\tLoss: 1.478676\n"
          ]
        },
        {
          "name": "stderr",
          "output_type": "stream",
          "text": [
            " 85%|████████▍ | 84.5573770491979/100 [9:33:53<29:16, 113.74s/it]       "
          ]
        },
        {
          "name": "stdout",
          "output_type": "stream",
          "text": [
            "Train Epoch: 84 [5000/6370 (78%)]\tLoss: 1.726794\n"
          ]
        },
        {
          "name": "stderr",
          "output_type": "stream",
          "text": [
            " 85%|████████▌ | 85.00546448089241/100 [9:37:01<05:11, 20.76s/it]     "
          ]
        },
        {
          "name": "stdout",
          "output_type": "stream",
          "text": [
            "\n",
            "Test Epoch: 84\tAccuracy: 751/2730 (28%)\n",
            "\n",
            "Train Epoch: 85 [0/6370 (0%)]\tLoss: 1.197752\n"
          ]
        },
        {
          "name": "stderr",
          "output_type": "stream",
          "text": [
            " 85%|████████▌ | 85.2841530054829/100 [9:37:07<05:26, 22.16s/it] "
          ]
        },
        {
          "name": "stdout",
          "output_type": "stream",
          "text": [
            "Train Epoch: 85 [2500/6370 (39%)]\tLoss: 1.674654\n"
          ]
        },
        {
          "name": "stderr",
          "output_type": "stream",
          "text": [
            " 86%|████████▌ | 85.55737704919908/100 [9:37:13<05:30, 22.92s/it]"
          ]
        },
        {
          "name": "stdout",
          "output_type": "stream",
          "text": [
            "Train Epoch: 85 [5000/6370 (78%)]\tLoss: 1.857635\n"
          ]
        },
        {
          "name": "stderr",
          "output_type": "stream",
          "text": [
            " 86%|████████▌ | 86.0054644808936/100 [9:37:24<04:45, 20.42s/it] "
          ]
        },
        {
          "name": "stdout",
          "output_type": "stream",
          "text": [
            "\n",
            "Test Epoch: 85\tAccuracy: 750/2730 (27%)\n",
            "\n",
            "Train Epoch: 86 [0/6370 (0%)]\tLoss: 1.153286\n"
          ]
        },
        {
          "name": "stderr",
          "output_type": "stream",
          "text": [
            " 86%|████████▋ | 86.28415300548409/100 [9:37:30<05:04, 22.21s/it]"
          ]
        },
        {
          "name": "stdout",
          "output_type": "stream",
          "text": [
            "Train Epoch: 86 [2500/6370 (39%)]\tLoss: 1.167185\n"
          ]
        },
        {
          "name": "stderr",
          "output_type": "stream",
          "text": [
            " 87%|████████▋ | 86.55737704920026/100 [9:37:36<05:07, 22.89s/it]"
          ]
        },
        {
          "name": "stdout",
          "output_type": "stream",
          "text": [
            "Train Epoch: 86 [5000/6370 (78%)]\tLoss: 1.718797\n"
          ]
        },
        {
          "name": "stderr",
          "output_type": "stream",
          "text": [
            " 87%|████████▋ | 87.00546448089477/100 [9:37:49<04:41, 21.64s/it] "
          ]
        },
        {
          "name": "stdout",
          "output_type": "stream",
          "text": [
            "\n",
            "Test Epoch: 86\tAccuracy: 749/2730 (27%)\n",
            "\n",
            "Train Epoch: 87 [0/6370 (0%)]\tLoss: 1.802917\n"
          ]
        },
        {
          "name": "stderr",
          "output_type": "stream",
          "text": [
            " 87%|████████▋ | 87.28415300548527/100 [9:37:56<04:49, 22.78s/it]"
          ]
        },
        {
          "name": "stdout",
          "output_type": "stream",
          "text": [
            "Train Epoch: 87 [2500/6370 (39%)]\tLoss: 1.481939\n"
          ]
        },
        {
          "name": "stderr",
          "output_type": "stream",
          "text": [
            " 88%|████████▊ | 87.55737704920143/100 [9:38:02<04:41, 22.66s/it]"
          ]
        },
        {
          "name": "stdout",
          "output_type": "stream",
          "text": [
            "Train Epoch: 87 [5000/6370 (78%)]\tLoss: 1.436121\n"
          ]
        },
        {
          "name": "stderr",
          "output_type": "stream",
          "text": [
            " 88%|████████▊ | 88.00546448089595/100 [9:38:12<04:07, 20.60s/it]"
          ]
        },
        {
          "name": "stdout",
          "output_type": "stream",
          "text": [
            "\n",
            "Test Epoch: 87\tAccuracy: 737/2730 (27%)\n",
            "\n",
            "Train Epoch: 88 [0/6370 (0%)]\tLoss: 1.230667\n"
          ]
        },
        {
          "name": "stderr",
          "output_type": "stream",
          "text": [
            " 88%|████████▊ | 88.28415300548644/100 [9:38:18<04:28, 22.88s/it]"
          ]
        },
        {
          "name": "stdout",
          "output_type": "stream",
          "text": [
            "Train Epoch: 88 [2500/6370 (39%)]\tLoss: 1.431729\n"
          ]
        },
        {
          "name": "stderr",
          "output_type": "stream",
          "text": [
            " 89%|████████▊ | 88.55737704920261/100 [9:38:24<04:18, 22.61s/it]"
          ]
        },
        {
          "name": "stdout",
          "output_type": "stream",
          "text": [
            "Train Epoch: 88 [5000/6370 (78%)]\tLoss: 1.435838\n"
          ]
        },
        {
          "name": "stderr",
          "output_type": "stream",
          "text": [
            " 89%|████████▉ | 89.00546448089713/100 [9:41:45<03:43, 20.33s/it]      "
          ]
        },
        {
          "name": "stdout",
          "output_type": "stream",
          "text": [
            "\n",
            "Test Epoch: 88\tAccuracy: 744/2730 (27%)\n",
            "\n",
            "Train Epoch: 89 [0/6370 (0%)]\tLoss: 1.261914\n"
          ]
        },
        {
          "name": "stderr",
          "output_type": "stream",
          "text": [
            " 89%|████████▉ | 89.28415300548762/100 [9:41:51<04:02, 22.64s/it]"
          ]
        },
        {
          "name": "stdout",
          "output_type": "stream",
          "text": [
            "Train Epoch: 89 [2500/6370 (39%)]\tLoss: 1.498736\n"
          ]
        },
        {
          "name": "stderr",
          "output_type": "stream",
          "text": [
            " 90%|████████▉ | 89.5573770492038/100 [9:41:57<03:54, 22.43s/it] "
          ]
        },
        {
          "name": "stdout",
          "output_type": "stream",
          "text": [
            "Train Epoch: 89 [5000/6370 (78%)]\tLoss: 1.679727\n"
          ]
        },
        {
          "name": "stderr",
          "output_type": "stream",
          "text": [
            " 90%|█████████ | 90.00546448089831/100 [9:42:07<03:24, 20.48s/it]"
          ]
        },
        {
          "name": "stdout",
          "output_type": "stream",
          "text": [
            "\n",
            "Test Epoch: 89\tAccuracy: 724/2730 (27%)\n",
            "\n",
            "Train Epoch: 90 [0/6370 (0%)]\tLoss: 1.214670\n"
          ]
        },
        {
          "name": "stderr",
          "output_type": "stream",
          "text": [
            " 90%|█████████ | 90.2841530054888/100 [9:42:13<03:35, 22.21s/it] "
          ]
        },
        {
          "name": "stdout",
          "output_type": "stream",
          "text": [
            "Train Epoch: 90 [2500/6370 (39%)]\tLoss: 1.525141\n"
          ]
        },
        {
          "name": "stderr",
          "output_type": "stream",
          "text": [
            " 91%|█████████ | 90.55737704920497/100 [9:42:19<03:33, 22.58s/it]"
          ]
        },
        {
          "name": "stdout",
          "output_type": "stream",
          "text": [
            "Train Epoch: 90 [5000/6370 (78%)]\tLoss: 1.407190\n"
          ]
        },
        {
          "name": "stderr",
          "output_type": "stream",
          "text": [
            " 91%|█████████ | 91.00546448089949/100 [9:43:03<05:09, 34.37s/it]    "
          ]
        },
        {
          "name": "stdout",
          "output_type": "stream",
          "text": [
            "\n",
            "Test Epoch: 90\tAccuracy: 706/2730 (26%)\n",
            "\n",
            "Train Epoch: 91 [0/6370 (0%)]\tLoss: 1.639996\n"
          ]
        },
        {
          "name": "stderr",
          "output_type": "stream",
          "text": [
            " 91%|█████████▏| 91.28415300548998/100 [9:43:09<03:15, 22.46s/it]"
          ]
        },
        {
          "name": "stdout",
          "output_type": "stream",
          "text": [
            "Train Epoch: 91 [2500/6370 (39%)]\tLoss: 1.412767\n"
          ]
        },
        {
          "name": "stderr",
          "output_type": "stream",
          "text": [
            " 92%|█████████▏| 91.55737704920615/100 [9:43:15<03:08, 22.28s/it]"
          ]
        },
        {
          "name": "stdout",
          "output_type": "stream",
          "text": [
            "Train Epoch: 91 [5000/6370 (78%)]\tLoss: 1.362566\n"
          ]
        },
        {
          "name": "stderr",
          "output_type": "stream",
          "text": [
            " 92%|█████████▏| 92.00546448090067/100 [9:43:25<02:45, 20.65s/it]"
          ]
        },
        {
          "name": "stdout",
          "output_type": "stream",
          "text": [
            "\n",
            "Test Epoch: 91\tAccuracy: 736/2730 (27%)\n",
            "\n",
            "Train Epoch: 92 [0/6370 (0%)]\tLoss: 1.073928\n"
          ]
        },
        {
          "name": "stderr",
          "output_type": "stream",
          "text": [
            " 92%|█████████▏| 92.28415300549116/100 [9:43:31<02:55, 22.73s/it]"
          ]
        },
        {
          "name": "stdout",
          "output_type": "stream",
          "text": [
            "Train Epoch: 92 [2500/6370 (39%)]\tLoss: 1.280538\n"
          ]
        },
        {
          "name": "stderr",
          "output_type": "stream",
          "text": [
            " 93%|█████████▎| 92.55737704920733/100 [9:43:38<02:52, 23.23s/it]"
          ]
        },
        {
          "name": "stdout",
          "output_type": "stream",
          "text": [
            "Train Epoch: 92 [5000/6370 (78%)]\tLoss: 1.412268\n"
          ]
        },
        {
          "name": "stderr",
          "output_type": "stream",
          "text": [
            " 93%|█████████▎| 93.00546448090185/100 [9:47:56<02:23, 20.45s/it]      "
          ]
        },
        {
          "name": "stdout",
          "output_type": "stream",
          "text": [
            "\n",
            "Test Epoch: 92\tAccuracy: 716/2730 (26%)\n",
            "\n",
            "Train Epoch: 93 [0/6370 (0%)]\tLoss: 1.193331\n"
          ]
        },
        {
          "name": "stderr",
          "output_type": "stream",
          "text": [
            " 93%|█████████▎| 93.28415300549234/100 [9:48:02<02:30, 22.35s/it]"
          ]
        },
        {
          "name": "stdout",
          "output_type": "stream",
          "text": [
            "Train Epoch: 93 [2500/6370 (39%)]\tLoss: 1.591499\n"
          ]
        },
        {
          "name": "stderr",
          "output_type": "stream",
          "text": [
            " 94%|█████████▎| 93.55737704920851/100 [9:48:08<02:22, 22.06s/it]"
          ]
        },
        {
          "name": "stdout",
          "output_type": "stream",
          "text": [
            "Train Epoch: 93 [5000/6370 (78%)]\tLoss: 1.270779\n"
          ]
        },
        {
          "name": "stderr",
          "output_type": "stream",
          "text": [
            " 94%|█████████▍| 94.00546448090303/100 [9:48:18<02:03, 20.54s/it]"
          ]
        },
        {
          "name": "stdout",
          "output_type": "stream",
          "text": [
            "\n",
            "Test Epoch: 93\tAccuracy: 715/2730 (26%)\n",
            "\n",
            "Train Epoch: 94 [0/6370 (0%)]\tLoss: 1.720979\n"
          ]
        },
        {
          "name": "stderr",
          "output_type": "stream",
          "text": [
            " 94%|█████████▍| 94.28415300549352/100 [9:48:24<02:03, 21.55s/it]"
          ]
        },
        {
          "name": "stdout",
          "output_type": "stream",
          "text": [
            "Train Epoch: 94 [2500/6370 (39%)]\tLoss: 1.239167\n"
          ]
        },
        {
          "name": "stderr",
          "output_type": "stream",
          "text": [
            " 95%|█████████▍| 94.55737704920969/100 [9:48:30<02:03, 22.74s/it]"
          ]
        },
        {
          "name": "stdout",
          "output_type": "stream",
          "text": [
            "Train Epoch: 94 [5000/6370 (78%)]\tLoss: 1.672281\n"
          ]
        },
        {
          "name": "stderr",
          "output_type": "stream",
          "text": [
            " 95%|█████████▌| 95.00546448090421/100 [10:12:28<22:56, 275.55s/it]     "
          ]
        },
        {
          "name": "stdout",
          "output_type": "stream",
          "text": [
            "\n",
            "Test Epoch: 94\tAccuracy: 752/2730 (28%)\n",
            "\n",
            "Train Epoch: 95 [0/6370 (0%)]\tLoss: 1.117757\n"
          ]
        },
        {
          "name": "stderr",
          "output_type": "stream",
          "text": [
            " 95%|█████████▌| 95.2841530054947/100 [10:12:34<01:44, 22.17s/it]  "
          ]
        },
        {
          "name": "stdout",
          "output_type": "stream",
          "text": [
            "Train Epoch: 95 [2500/6370 (39%)]\tLoss: 1.403361\n"
          ]
        },
        {
          "name": "stderr",
          "output_type": "stream",
          "text": [
            " 96%|█████████▌| 95.55737704921087/100 [10:12:40<01:39, 22.39s/it]"
          ]
        },
        {
          "name": "stdout",
          "output_type": "stream",
          "text": [
            "Train Epoch: 95 [5000/6370 (78%)]\tLoss: 1.449512\n"
          ]
        },
        {
          "name": "stderr",
          "output_type": "stream",
          "text": [
            " 96%|█████████▌| 96.00546448090539/100 [10:12:50<01:22, 20.69s/it]"
          ]
        },
        {
          "name": "stdout",
          "output_type": "stream",
          "text": [
            "\n",
            "Test Epoch: 95\tAccuracy: 726/2730 (27%)\n",
            "\n",
            "Train Epoch: 96 [0/6370 (0%)]\tLoss: 1.480615\n"
          ]
        },
        {
          "name": "stderr",
          "output_type": "stream",
          "text": [
            " 96%|█████████▋| 96.28415300549588/100 [10:18:28<01:38, 26.62s/it]      "
          ]
        },
        {
          "name": "stdout",
          "output_type": "stream",
          "text": [
            "Train Epoch: 96 [2500/6370 (39%)]\tLoss: 1.269273\n"
          ]
        },
        {
          "name": "stderr",
          "output_type": "stream",
          "text": [
            " 97%|█████████▋| 96.55737704921205/100 [10:18:34<01:27, 25.52s/it]"
          ]
        },
        {
          "name": "stdout",
          "output_type": "stream",
          "text": [
            "Train Epoch: 96 [5000/6370 (78%)]\tLoss: 1.364625\n"
          ]
        },
        {
          "name": "stderr",
          "output_type": "stream",
          "text": [
            " 97%|█████████▋| 97.00546448090657/100 [10:18:44<01:00, 20.35s/it]"
          ]
        },
        {
          "name": "stdout",
          "output_type": "stream",
          "text": [
            "\n",
            "Test Epoch: 96\tAccuracy: 716/2730 (26%)\n",
            "\n",
            "Train Epoch: 97 [0/6370 (0%)]\tLoss: 1.297116\n"
          ]
        },
        {
          "name": "stderr",
          "output_type": "stream",
          "text": [
            " 97%|█████████▋| 97.28415300549706/100 [10:18:50<01:01, 22.66s/it]"
          ]
        },
        {
          "name": "stdout",
          "output_type": "stream",
          "text": [
            "Train Epoch: 97 [2500/6370 (39%)]\tLoss: 1.173630\n"
          ]
        },
        {
          "name": "stderr",
          "output_type": "stream",
          "text": [
            " 98%|█████████▊| 97.55737704921323/100 [10:18:57<00:53, 21.90s/it]"
          ]
        },
        {
          "name": "stdout",
          "output_type": "stream",
          "text": [
            "Train Epoch: 97 [5000/6370 (78%)]\tLoss: 1.388888\n"
          ]
        },
        {
          "name": "stderr",
          "output_type": "stream",
          "text": [
            " 98%|█████████▊| 98.00546448090775/100 [10:19:06<00:40, 20.49s/it]"
          ]
        },
        {
          "name": "stdout",
          "output_type": "stream",
          "text": [
            "\n",
            "Test Epoch: 97\tAccuracy: 725/2730 (27%)\n",
            "\n",
            "Train Epoch: 98 [0/6370 (0%)]\tLoss: 1.388352\n"
          ]
        },
        {
          "name": "stderr",
          "output_type": "stream",
          "text": [
            " 98%|█████████▊| 98.28415300549824/100 [10:27:21<44:51, 1568.39s/it]    "
          ]
        },
        {
          "name": "stdout",
          "output_type": "stream",
          "text": [
            "Train Epoch: 98 [2500/6370 (39%)]\tLoss: 1.252591\n"
          ]
        },
        {
          "name": "stderr",
          "output_type": "stream",
          "text": [
            " 99%|█████████▊| 98.55737704921441/100 [10:27:27<00:33, 23.09s/it]  "
          ]
        },
        {
          "name": "stdout",
          "output_type": "stream",
          "text": [
            "Train Epoch: 98 [5000/6370 (78%)]\tLoss: 1.087799\n"
          ]
        },
        {
          "name": "stderr",
          "output_type": "stream",
          "text": [
            " 99%|█████████▉| 99.00546448090893/100 [10:27:37<00:20, 20.44s/it]"
          ]
        },
        {
          "name": "stdout",
          "output_type": "stream",
          "text": [
            "\n",
            "Test Epoch: 98\tAccuracy: 671/2730 (25%)\n",
            "\n",
            "Train Epoch: 99 [0/6370 (0%)]\tLoss: 1.167554\n"
          ]
        },
        {
          "name": "stderr",
          "output_type": "stream",
          "text": [
            " 99%|█████████▉| 99.28415300549942/100 [10:27:43<00:16, 22.42s/it]"
          ]
        },
        {
          "name": "stdout",
          "output_type": "stream",
          "text": [
            "Train Epoch: 99 [2500/6370 (39%)]\tLoss: 1.299887\n"
          ]
        },
        {
          "name": "stderr",
          "output_type": "stream",
          "text": [
            "100%|█████████▉| 99.55737704921559/100 [10:27:49<00:09, 22.26s/it]"
          ]
        },
        {
          "name": "stdout",
          "output_type": "stream",
          "text": [
            "Train Epoch: 99 [5000/6370 (78%)]\tLoss: 1.565222\n"
          ]
        },
        {
          "name": "stderr",
          "output_type": "stream",
          "text": [
            "100%|█████████▉| 99.99453551916146/100 [10:27:59<00:00, 22.15s/it]/Users/loiskelly/miniconda3/envs/aim/lib/python3.9/site-packages/tqdm/std.py:639: TqdmWarning: clamping frac to range [0, 1]\n",
            "  full_bar = Bar(frac,\n",
            "100%|██████████| 100.00000000003578/100 [10:27:59<00:00, 376.80s/it]"
          ]
        },
        {
          "name": "stdout",
          "output_type": "stream",
          "text": [
            "\n",
            "Test Epoch: 99\tAccuracy: 733/2730 (27%)\n",
            "\n"
          ]
        },
        {
          "name": "stderr",
          "output_type": "stream",
          "text": [
            "\n"
          ]
        }
      ],
      "source": [
        "pbar_update = 1 / (len(train_loader) + len(val_loader))\n",
        "\n",
        "train_losses = []\n",
        "val_losses = []\n",
        "\n",
        "best_loss = 100000\n",
        "\n",
        "# Show progress bar \n",
        "with tqdm(total=num_epochs) as pbar:\n",
        "    \n",
        "    # For each cycle of the dataset\n",
        "    for epoch in range(num_epochs):\n",
        "        # Variables to keep track of running loss\n",
        "        train_loss = 0.0\n",
        "        val_loss = 0.0\n",
        "        \n",
        "        # Put model in training model\n",
        "        model.train()\n",
        "        model.to(device)\n",
        "        \n",
        "        # Train loop\n",
        "        # For each batch in one cycle of the training set\n",
        "        for batch_idx, (data, target) in enumerate(train_loader):\n",
        "            pass\n",
        "            # Move data to whatever device we are running training on\n",
        "            data = data.to(device)\n",
        "            target = target.to(device)\n",
        "            \n",
        "            # Forward pass with the model\n",
        "            output = model(data)\n",
        "\n",
        "            # Evaluate classification accuracy\n",
        "            loss = criterion(output.squeeze(), target)\n",
        "            \n",
        "            # Backpropagate loss and update gradients\n",
        "            loss.backward()\n",
        "            optimizer.step()\n",
        "            optimizer.zero_grad()\n",
        "\n",
        "            # Keep track off loss over time\n",
        "            train_loss += loss.item()\n",
        "\n",
        "            # print training stats\n",
        "            if batch_idx % log_interval == 0:\n",
        "                print(f\"Train Epoch: {epoch} [{batch_idx * len(data)}/{len(train_loader.dataset)} ({100. * batch_idx / len(train_loader):.0f}%)]\\tLoss: {loss.item():.6f}\")\n",
        "\n",
        "            # update progress bar\n",
        "            pbar.update(pbar_update)\n",
        "\n",
        "        # Put model in evaluation mode (turn off batch norm)\n",
        "        model.eval()\n",
        "        model.to(device)\n",
        "        # Without gradient tracking \n",
        "        with torch.no_grad():\n",
        "            \n",
        "            # Variable to track total correct classifications\n",
        "            correct = 0\n",
        "\n",
        "            # Validation loop\n",
        "            # For each batch in one cycle of the validation set\n",
        "            for data, target in val_loader:\n",
        "                \n",
        "                # Move data to whatever device we are running training on\n",
        "                data = data.to(device)\n",
        "                target = target.to(device)\n",
        "\n",
        "                # Forward pass with the model\n",
        "                output = model(data)\n",
        "\n",
        "                # Evaluate classification accuracy\n",
        "                loss = criterion(output.squeeze(), target)\n",
        "                \n",
        "                # Track loss\n",
        "                val_loss += loss.item()\n",
        "\n",
        "                # Get top prediction\n",
        "                pred = get_likely_index(output)\n",
        "                \n",
        "                # Check if prediction is correct\n",
        "                correct += number_of_correct(pred, target)\n",
        "\n",
        "                # update progress bar\n",
        "                pbar.update(pbar_update)\n",
        "        \n",
        "        # Normalise cumulative losses to dataset size\n",
        "        train_loss = train_loss / len(train_loader)\n",
        "        val_loss = val_loss / len(val_loader)\n",
        "        \n",
        "        # Added cumulative losses to lists for later display\n",
        "        train_losses.append(train_loss)\n",
        "        val_losses.append(val_loss)\n",
        "\n",
        "        print(f\"\\nTest Epoch: {epoch}\\tAccuracy: {correct}/{len(val_loader.dataset)} ({100. * correct / len(val_loader.dataset):.0f}%)\\n\")\n",
        "\n",
        "        # if validation score is lowest so far, save the model\n",
        "        if val_loss < best_loss:\n",
        "            best_loss = val_loss\n",
        "            torch.save(model.cpu().state_dict(), 'best_audio_classifier.pt')"
      ]
    },
    {
      "cell_type": "markdown",
      "metadata": {},
      "source": [
        "Plotting the training and validation loss. The model doesn't appear to classify well! "
      ]
    },
    {
      "cell_type": "code",
      "execution_count": 13,
      "metadata": {},
      "outputs": [
        {
          "data": {
            "image/png": "[encoded data removed]",
            "text/plain": [
              "<Figure size 1000x500 with 1 Axes>"
            ]
          },
          "metadata": {},
          "output_type": "display_data"
        }
      ],
      "source": [
        "plt.figure(figsize=(10,5))\n",
        "plt.title(\"Train vs validation loss\")\n",
        "plt.plot(train_losses,label=\"train\")\n",
        "plt.plot(val_losses,label=\"val\")\n",
        "plt.xlabel(\"epochs\")\n",
        "plt.ylabel(\"culuative loss\")\n",
        "plt.legend()\n",
        "plt.show()"
      ]
    }
  ],
  "metadata": {
    "kernelspec": {
      "display_name": "Python 3",
      "language": "python",
      "name": "python3"
    },
    "language_info": {
      "codemirror_mode": {
        "name": "ipython",
        "version": 3
      },
      "file_extension": ".py",
      "mimetype": "text/x-python",
      "name": "python",
      "nbconvert_exporter": "python",
      "pygments_lexer": "ipython3",
      "version": "3.9.18"
    }
  },
  "nbformat": 4,
  "nbformat_minor": 0
}
